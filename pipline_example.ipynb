{
 "cells": [
  {
   "cell_type": "code",
   "execution_count": null,
   "id": "ebaf71c9-53db-4fc7-adc6-6ab0390d812d",
   "metadata": {},
   "outputs": [],
   "source": [
    "import sys\n",
    "import oskar\n",
    "import dask\n",
    "import matplotlib\n",
    "#matplotlib.use(\"Agg\")\n",
    "# pylint: disable=wrong-import-position\n",
    "import matplotlib.pyplot as plt\n",
    "from astropy.visualization import astropy_mpl_style\n",
    "import numpy\n",
    "import rascil.processing_components as raproc\n",
    "import rascil\n",
    "from rascil.workflows import continuum_imaging_list_rsexecute_workflow, rsexecute\n",
    "import astropy\n",
    "from astropy import units as u\n",
    "from rascil.apps import rascil_imager\n",
    "from rascil.processing_components.util.performance import (\n",
    "    performance_store_dict,\n",
    "    performance_environment,\n",
    ")\n",
    "from astropy.utils.data import get_pkg_data_filename\n",
    "from astropy.io import fits"
   ]
  },
  {
   "cell_type": "code",
   "execution_count": null,
   "id": "4e9a0aad-cbef-40fb-a1e1-105cffd83cea",
   "metadata": {},
   "outputs": [],
   "source": [
    "plt.style.use(astropy_mpl_style)"
   ]
  },
  {
   "cell_type": "code",
   "execution_count": null,
   "id": "06c2e94d-e3f1-4cb9-bfc5-5a6cf57459f9",
   "metadata": {
    "tags": []
   },
   "outputs": [],
   "source": [
    "# Basic settings. (Note that the sky model is set up later.)\n",
    "params = {\n",
    "    \"simulator\": {\n",
    "        \"use_gpus\": False\n",
    "    },\n",
    "    \"observation\" : {\n",
    "        \"num_channels\": 64,\n",
    "        \"start_frequency_hz\": 100e6,\n",
    "        \"frequency_inc_hz\": 20e6,\n",
    "        \"phase_centre_ra_deg\": 20,\n",
    "        \"phase_centre_dec_deg\": -30,\n",
    "        \"num_time_steps\": 24,\n",
    "        \"start_time_utc\": \"01-01-2000 12:00:00.000\",\n",
    "        \"length\": \"12:00:00.000\"\n",
    "    },\n",
    "    \"telescope\": {\n",
    "        \"input_directory\": \"telescope.tm\"\n",
    "    },\n",
    "    \"interferometer\": {\n",
    "        \"ms_filename\": \"visibilities.ms\",\n",
    "        \"channel_bandwidth_hz\": 1e6,\n",
    "        \"time_average_sec\": 10\n",
    "    }\n",
    "}\n",
    "settings = oskar.SettingsTree(\"oskar_sim_interferometer\")\n",
    "settings.from_dict(params)\n",
    "\n",
    "# Set the numerical precision to use.\n",
    "precision = \"single\"\n",
    "if precision == \"single\":\n",
    "    settings[\"simulator/double_precision\"] = False\n",
    "\n",
    "# Create a sky model containing three sources from a numpy array.\n",
    "sky_data = numpy.array([\n",
    "        [20.0, -30.0, 1, 0, 0, 0, 100.0e6, -0.7, 0.0, 0,   0,   0],\n",
    "        [20.0, -30.5, 3, 2, 2, 0, 100.0e6, -0.7, 0.0, 600, 50,  45],\n",
    "        [20.5, -30.5, 3, 0, 0, 2, 100.0e6, -0.7, 0.0, 700, 10, -10]])\n",
    "sky = oskar.Sky.from_array(sky_data, precision)  # Pass precision here.\n",
    "\n",
    "# Set the sky model and run the simulation.\n",
    "sim = oskar.Interferometer(settings=settings)\n",
    "sim.set_sky_model(sky)\n",
    "sim.run()"
   ]
  },
  {
   "cell_type": "code",
   "execution_count": null,
   "id": "71820804-3b7a-47be-ac9e-c4058ea50436",
   "metadata": {},
   "outputs": [],
   "source": [
    "def start_imager(rawargs):\n",
    "    parser = rascil_imager.cli_parser()\n",
    "    args = parser.parse_args(rawargs)\n",
    "    performance_environment(args.performance_file, mode=\"w\")\n",
    "    performance_store_dict(args.performance_file, \"cli_args\", vars(args), mode=\"a\")\n",
    "    image_name = rascil_imager.imager(args)\n",
    "\n",
    "start_imager(\n",
    "    [\n",
    "        '--ingest_msname','visibilities.ms',\n",
    "        '--ingest_dd', '0', \n",
    "        '--ingest_vis_nchan', '64',\n",
    "        '--ingest_chan_per_blockvis', '4' ,\n",
    "        '--ingest_average_blockvis', 'True',\n",
    "        '--imaging_npixel', '2048', \n",
    "        '--imaging_cellsize', '3.878509448876288e-05',\n",
    "        '--imaging_weighting', 'robust',\n",
    "        '--imaging_robustness', '-0.5',\n",
    "        '--clean_nmajor', '0' , #5\n",
    "        '--clean_algorithm', 'mmclean',\n",
    "        '--clean_scales', '0', '6', '10', '30', '60',\n",
    "        '--clean_fractional_threshold', '0.3',\n",
    "        '--clean_threshold', '0.12e-3', '--clean_nmoment' ,'5',\n",
    "        '--clean_psf_support', '640', '--clean_restored_output', 'integrated'\n",
    "    ])"
   ]
  },
  {
   "cell_type": "code",
   "execution_count": null,
   "id": "5ff6d94d-2643-468d-b0ab-a9f72feb62e2",
   "metadata": {},
   "outputs": [],
   "source": [
    "from astropy.io import fits\n",
    "import matplotlib.pyplot as plt\n",
    "from astropy.utils.data import get_pkg_data_filename\n",
    "image_file = get_pkg_data_filename('visibilities_nmoment5_cip_deconvolved.fits')\n",
    "fits.info(image_file)"
   ]
  },
  {
   "cell_type": "code",
   "execution_count": null,
   "id": "cb378147-a901-46ae-a1e3-2320b94d497b",
   "metadata": {},
   "outputs": [],
   "source": [
    "import numpy as np\n",
    "image_data = fits.getdata(image_file)\n",
    "image_data = np.log(image_data.sum(axis=(0,1)))\n",
    "_ = plt.figure(figsize=(8,6))\n",
    "_ = plt.imshow(image_data, cmap='gray')\n",
    "_ = plt.colorbar()"
   ]
  },
  {
   "cell_type": "code",
   "execution_count": null,
   "id": "31261a6d",
   "metadata": {},
   "outputs": [],
   "source": []
  }
 ],
 "metadata": {
  "kernelspec": {
   "display_name": "Python 3 (ipykernel)",
   "language": "python",
   "name": "python3"
  },
  "language_info": {
   "codemirror_mode": {
    "name": "ipython",
    "version": 3
   },
   "file_extension": ".py",
   "mimetype": "text/x-python",
   "name": "python",
   "nbconvert_exporter": "python",
   "pygments_lexer": "ipython3",
   "version": "3.7.11"
  }
 },
 "nbformat": 4,
 "nbformat_minor": 5
}

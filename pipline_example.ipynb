{
 "cells": [
  {
   "cell_type": "code",
   "execution_count": 35,
   "id": "ebaf71c9-53db-4fc7-adc6-6ab0390d812d",
   "metadata": {},
   "outputs": [],
   "source": [
    "import oskar\n",
    "import dask\n",
    "import matplotlib\n",
    "#matplotlib.use(\"Agg\")\n",
    "# pylint: disable=wrong-import-position\n",
    "import matplotlib.pyplot as plt\n",
    "from astropy.visualization import astropy_mpl_style\n",
    "import numpy\n",
    "import rascil.processing_components as raproc\n",
    "import rascil\n",
    "from rascil.workflows import continuum_imaging_list_rsexecute_workflow, rsexecute\n",
    "import astropy\n",
    "from astropy import units as u\n",
    "import rascil_imager as rascil_imager\n",
    "from astropy.utils.data import get_pkg_data_filename\n",
    "from astropy.io import fits"
   ]
  },
  {
   "cell_type": "code",
   "execution_count": 36,
   "id": "4e9a0aad-cbef-40fb-a1e1-105cffd83cea",
   "metadata": {},
   "outputs": [],
   "source": [
    "plt.style.use(astropy_mpl_style)"
   ]
  },
  {
   "cell_type": "code",
   "execution_count": 37,
   "id": "06c2e94d-e3f1-4cb9-bfc5-5a6cf57459f9",
   "metadata": {
    "tags": []
   },
   "outputs": [],
   "source": [
    "# Basic settings. (Note that the sky model is set up later.)\n",
    "params = {\n",
    "    \"simulator\": {\n",
    "        \"use_gpus\": False\n",
    "    },\n",
    "    \"observation\" : {\n",
    "        \"num_channels\": 64,\n",
    "        \"start_frequency_hz\": 100e6,\n",
    "        \"frequency_inc_hz\": 20e6,\n",
    "        \"phase_centre_ra_deg\": 20,\n",
    "        \"phase_centre_dec_deg\": -30,\n",
    "        \"num_time_steps\": 24,\n",
    "        \"start_time_utc\": \"01-01-2000 12:00:00.000\",\n",
    "        \"length\": \"12:00:00.000\"\n",
    "    },\n",
    "    \"telescope\": {\n",
    "        \"input_directory\": \"telescope.tm\"\n",
    "    },\n",
    "    \"interferometer\": {\n",
    "        \"ms_filename\": \"visibilities.ms\",\n",
    "        \"channel_bandwidth_hz\": 1e6,\n",
    "        \"time_average_sec\": 10\n",
    "    }\n",
    "}\n",
    "settings = oskar.SettingsTree(\"oskar_sim_interferometer\")\n",
    "settings.from_dict(params)\n",
    "\n",
    "# Set the numerical precision to use.\n",
    "precision = \"single\"\n",
    "if precision == \"single\":\n",
    "    settings[\"simulator/double_precision\"] = False\n",
    "\n",
    "# Create a sky model containing three sources from a numpy array.\n",
    "sky_data = numpy.array([\n",
    "        [20.0, -30.0, 1, 0, 0, 0, 100.0e6, -0.7, 0.0, 0,   0,   0],\n",
    "        [20.0, -30.5, 3, 2, 2, 0, 100.0e6, -0.7, 0.0, 600, 50,  45],\n",
    "        [20.5, -30.5, 3, 0, 0, 2, 100.0e6, -0.7, 0.0, 700, 10, -10]])\n",
    "sky = oskar.Sky.from_array(sky_data, precision)  # Pass precision here.\n",
    "\n",
    "# Set the sky model and run the simulation.\n",
    "sim = oskar.Interferometer(settings=settings)\n",
    "sim.set_sky_model(sky)\n",
    "sim.run()"
   ]
  },
  {
   "cell_type": "code",
   "execution_count": 38,
   "id": "71820804-3b7a-47be-ac9e-c4058ea50436",
   "metadata": {},
   "outputs": [
    {
     "name": "stdout",
     "output_type": "stream",
     "text": [
      "Creating Dask.distributed Client\n"
     ]
    },
    {
     "name": "stderr",
     "output_type": "stream",
     "text": [
      "/Users/cvoegele/opt/anaconda3/envs/pipeline_env/lib/python3.7/site-packages/distributed/node.py:161: UserWarning: Port 8787 is already in use.\n",
      "Perhaps you already have a cluster running?\n",
      "Hosting the HTTP server on port 54867 instead\n",
      "  f\"Port {expected} is already in use.\\n\"\n"
     ]
    },
    {
     "name": "stdout",
     "output_type": "stream",
     "text": [
      "Diagnostic pages available on port http://127.0.0.1:54867\n"
     ]
    }
   ],
   "source": [
    "rascil_imager.main(\n",
    "    [\n",
    "        '--ingest_msname','visibilities.ms',\n",
    "        '--ingest_dd', '0', \n",
    "        '--ingest_vis_nchan', '64',\n",
    "        '--ingest_chan_per_blockvis', '4' ,\n",
    "        '--ingest_average_blockvis', 'True',\n",
    "        '--imaging_npixel', '2048', \n",
    "        '--imaging_cellsize', '3.878509448876288e-05',\n",
    "        '--imaging_weighting', 'robust',\n",
    "        '--imaging_robustness', '-0.5',\n",
    "        '--clean_nmajor', '0' ,\n",
    "        '--clean_algorithm', 'mmclean',\n",
    "        '--clean_scales', '0', '6', '10', '30', '60',\n",
    "        '--clean_fractional_threshold', '0.3',\n",
    "        '--clean_threshold', '0.12e-3', '--clean_nmoment' ,'5',\n",
    "        '--clean_psf_support', '640', '--clean_restored_output', 'integrated'\n",
    "    ])"
   ]
  },
  {
   "cell_type": "code",
   "execution_count": 15,
   "id": "5ff6d94d-2643-468d-b0ab-a9f72feb62e2",
   "metadata": {},
   "outputs": [
    {
     "name": "stdout",
     "output_type": "stream",
     "text": [
      "Filename: visibilities_nmoment5_cip_deconvolved.fits\n",
      "No.    Name      Ver    Type      Cards   Dimensions   Format\n",
      "  0  PRIMARY       1 PrimaryHDU      31   (2048, 2048, 1, 16)   float64   \n"
     ]
    }
   ],
   "source": [
    "image_file = get_pkg_data_filename('visibilities_nmoment5_cip_deconvolved.fits')\n",
    "fits.info(image_file)"
   ]
  },
  {
   "cell_type": "code",
   "execution_count": 31,
   "id": "cfb1ba40-e140-4b94-a9f3-5df63d9ba008",
   "metadata": {},
   "outputs": [
    {
     "name": "stdout",
     "output_type": "stream",
     "text": [
      "[[0. 0. 0. ... 0. 0. 0.]\n",
      " [0. 0. 0. ... 0. 0. 0.]\n",
      " [0. 0. 0. ... 0. 0. 0.]\n",
      " ...\n",
      " [0. 0. 0. ... 0. 0. 0.]\n",
      " [0. 0. 0. ... 0. 0. 0.]\n",
      " [0. 0. 0. ... 0. 0. 0.]]\n"
     ]
    },
    {
     "data": {
      "text/plain": [
       "<matplotlib.colorbar.Colorbar at 0x7fa482ba9d50>"
      ]
     },
     "execution_count": 31,
     "metadata": {},
     "output_type": "execute_result"
    }
   ],
   "source": [
    "image_data = fits.getdata(image_file, ext=0)\n",
    "numpy_data = numpy.array(image_data)\n",
    "data = numpy_data[1,0,:,:]\n",
    "print(data)\n",
    "\n",
    "plt.figure()\n",
    "plt.imshow(data, cmap='gray')\n",
    "plt.colorbar()"
   ]
  },
  {
   "cell_type": "code",
   "execution_count": null,
   "id": "cb378147-a901-46ae-a1e3-2320b94d497b",
   "metadata": {},
   "outputs": [],
   "source": []
  }
 ],
 "metadata": {
  "kernelspec": {
   "display_name": "pipeline_kernel",
   "language": "python",
   "name": "pipeline_kernel"
  },
  "language_info": {
   "codemirror_mode": {
    "name": "ipython",
    "version": 3
   },
   "file_extension": ".py",
   "mimetype": "text/x-python",
   "name": "python",
   "nbconvert_exporter": "python",
   "pygments_lexer": "ipython3",
   "version": "3.7.11"
  }
 },
 "nbformat": 4,
 "nbformat_minor": 5
}

{
 "cells": [
  {
   "cell_type": "markdown",
   "id": "7269719f",
   "metadata": {},
   "source": [
    "# Sample Pipeline\n",
    "\n",
    "This notebook shows an end to end radio interferometry pipeline from the simulation of the sky to the final image. The pipeline consists of three modules:\n",
    "\n",
    "- Simulation\n",
    "    - Sky module: OSKAR\n",
    "    - Telescope module incl. calibration: OSKAR\n",
    "- Processing\n",
    "    - Calibration after observation: RASCIL\n",
    "    - Deconvolution: RASCIL\n",
    "- Analysis & comparison\n",
    "    - Quantitative and qualitative analysis of algorithms"
   ]
  },
  {
   "cell_type": "code",
   "execution_count": 4,
   "id": "ebaf71c9-53db-4fc7-adc6-6ab0390d812d",
   "metadata": {
    "tags": []
   },
   "outputs": [
    {
     "ename": "ModuleNotFoundError",
     "evalue": "No module named 'h5py'",
     "output_type": "error",
     "traceback": [
      "\u001b[0;31m---------------------------------------------------------------------------\u001b[0m",
      "\u001b[0;31mModuleNotFoundError\u001b[0m                       Traceback (most recent call last)",
      "\u001b[0;32m/var/folders/pt/pfkrrbm532g53xr9t0vpbw780000gn/T/ipykernel_28655/3884045894.py\u001b[0m in \u001b[0;36m<module>\u001b[0;34m\u001b[0m\n\u001b[1;32m      5\u001b[0m \u001b[0;32mfrom\u001b[0m \u001b[0mastropy\u001b[0m\u001b[0;34m.\u001b[0m\u001b[0mvisualization\u001b[0m \u001b[0;32mimport\u001b[0m \u001b[0mastropy_mpl_style\u001b[0m\u001b[0;34m\u001b[0m\u001b[0;34m\u001b[0m\u001b[0m\n\u001b[1;32m      6\u001b[0m \u001b[0;32mimport\u001b[0m \u001b[0mnumpy\u001b[0m \u001b[0;32mas\u001b[0m \u001b[0mnp\u001b[0m\u001b[0;34m\u001b[0m\u001b[0;34m\u001b[0m\u001b[0m\n\u001b[0;32m----> 7\u001b[0;31m \u001b[0;32mfrom\u001b[0m \u001b[0mrascil\u001b[0m\u001b[0;34m.\u001b[0m\u001b[0mapps\u001b[0m \u001b[0;32mimport\u001b[0m \u001b[0mrascil_imager\u001b[0m\u001b[0;34m\u001b[0m\u001b[0;34m\u001b[0m\u001b[0m\n\u001b[0m\u001b[1;32m      8\u001b[0m from rascil.processing_components.util.performance import (\n\u001b[1;32m      9\u001b[0m     \u001b[0mperformance_store_dict\u001b[0m\u001b[0;34m,\u001b[0m\u001b[0;34m\u001b[0m\u001b[0;34m\u001b[0m\u001b[0m\n",
      "\u001b[0;32m/opt/anaconda3/envs/pipeline_env_38/lib/python3.8/site-packages/rascil-0.4.0-py3.8.egg/rascil/__init__.py\u001b[0m in \u001b[0;36m<module>\u001b[0;34m\u001b[0m\n\u001b[0;32m----> 1\u001b[0;31m \u001b[0;32mfrom\u001b[0m \u001b[0;34m.\u001b[0m \u001b[0;32mimport\u001b[0m \u001b[0mdata_models\u001b[0m\u001b[0;34m\u001b[0m\u001b[0;34m\u001b[0m\u001b[0m\n\u001b[0m\u001b[1;32m      2\u001b[0m \u001b[0;32mfrom\u001b[0m \u001b[0;34m.\u001b[0m \u001b[0;32mimport\u001b[0m \u001b[0mprocessing_components\u001b[0m\u001b[0;34m\u001b[0m\u001b[0;34m\u001b[0m\u001b[0m\n\u001b[1;32m      3\u001b[0m \u001b[0;32mfrom\u001b[0m \u001b[0;34m.\u001b[0m \u001b[0;32mimport\u001b[0m \u001b[0mworkflows\u001b[0m\u001b[0;34m\u001b[0m\u001b[0;34m\u001b[0m\u001b[0m\n\u001b[1;32m      4\u001b[0m \u001b[0;32mfrom\u001b[0m \u001b[0;34m.\u001b[0m \u001b[0;32mimport\u001b[0m \u001b[0mphyconst\u001b[0m\u001b[0;34m\u001b[0m\u001b[0;34m\u001b[0m\u001b[0m\n\u001b[1;32m      5\u001b[0m \u001b[0;34m\u001b[0m\u001b[0m\n",
      "\u001b[0;32m/opt/anaconda3/envs/pipeline_env_38/lib/python3.8/site-packages/rascil-0.4.0-py3.8.egg/rascil/data_models/__init__.py\u001b[0m in \u001b[0;36m<module>\u001b[0;34m\u001b[0m\n\u001b[1;32m      8\u001b[0m \u001b[0;34m\u001b[0m\u001b[0m\n\u001b[1;32m      9\u001b[0m \u001b[0;32mfrom\u001b[0m \u001b[0;34m.\u001b[0m\u001b[0mmemory_data_models\u001b[0m \u001b[0;32mimport\u001b[0m \u001b[0;34m*\u001b[0m\u001b[0;34m\u001b[0m\u001b[0;34m\u001b[0m\u001b[0m\n\u001b[0;32m---> 10\u001b[0;31m \u001b[0;32mfrom\u001b[0m \u001b[0;34m.\u001b[0m\u001b[0mbuffer_data_models\u001b[0m \u001b[0;32mimport\u001b[0m \u001b[0;34m*\u001b[0m\u001b[0;34m\u001b[0m\u001b[0;34m\u001b[0m\u001b[0m\n\u001b[0m\u001b[1;32m     11\u001b[0m \u001b[0;32mfrom\u001b[0m \u001b[0;34m.\u001b[0m\u001b[0mdata_model_helpers\u001b[0m \u001b[0;32mimport\u001b[0m \u001b[0;34m*\u001b[0m\u001b[0;34m\u001b[0m\u001b[0;34m\u001b[0m\u001b[0m\n\u001b[1;32m     12\u001b[0m \u001b[0;32mfrom\u001b[0m \u001b[0;34m.\u001b[0m\u001b[0mpolarisation\u001b[0m \u001b[0;32mimport\u001b[0m \u001b[0;34m*\u001b[0m\u001b[0;34m\u001b[0m\u001b[0;34m\u001b[0m\u001b[0m\n",
      "\u001b[0;32m/opt/anaconda3/envs/pipeline_env_38/lib/python3.8/site-packages/rascil-0.4.0-py3.8.egg/rascil/data_models/buffer_data_models.py\u001b[0m in \u001b[0;36m<module>\u001b[0;34m\u001b[0m\n\u001b[1;32m     32\u001b[0m \u001b[0;32mimport\u001b[0m \u001b[0mlogging\u001b[0m\u001b[0;34m\u001b[0m\u001b[0;34m\u001b[0m\u001b[0m\n\u001b[1;32m     33\u001b[0m \u001b[0;34m\u001b[0m\u001b[0m\n\u001b[0;32m---> 34\u001b[0;31m from rascil.data_models.data_model_helpers import (\n\u001b[0m\u001b[1;32m     35\u001b[0m     \u001b[0mbuffer_data_model_to_memory\u001b[0m\u001b[0;34m,\u001b[0m\u001b[0;34m\u001b[0m\u001b[0;34m\u001b[0m\u001b[0m\n\u001b[1;32m     36\u001b[0m     \u001b[0mmemory_data_model_to_buffer\u001b[0m\u001b[0;34m,\u001b[0m\u001b[0;34m\u001b[0m\u001b[0;34m\u001b[0m\u001b[0m\n",
      "\u001b[0;32m/opt/anaconda3/envs/pipeline_env_38/lib/python3.8/site-packages/rascil-0.4.0-py3.8.egg/rascil/data_models/data_model_helpers.py\u001b[0m in \u001b[0;36m<module>\u001b[0;34m\u001b[0m\n\u001b[1;32m    100\u001b[0m \u001b[0;34m\u001b[0m\u001b[0m\n\u001b[1;32m    101\u001b[0m \u001b[0;32mimport\u001b[0m \u001b[0mastropy\u001b[0m\u001b[0;34m.\u001b[0m\u001b[0munits\u001b[0m \u001b[0;32mas\u001b[0m \u001b[0mu\u001b[0m\u001b[0;34m\u001b[0m\u001b[0;34m\u001b[0m\u001b[0m\n\u001b[0;32m--> 102\u001b[0;31m \u001b[0;32mimport\u001b[0m \u001b[0mh5py\u001b[0m\u001b[0;34m\u001b[0m\u001b[0;34m\u001b[0m\u001b[0m\n\u001b[0m\u001b[1;32m    103\u001b[0m \u001b[0;32mimport\u001b[0m \u001b[0mnumpy\u001b[0m\u001b[0;34m\u001b[0m\u001b[0;34m\u001b[0m\u001b[0m\n\u001b[1;32m    104\u001b[0m \u001b[0;32mimport\u001b[0m \u001b[0mxarray\u001b[0m\u001b[0;34m\u001b[0m\u001b[0;34m\u001b[0m\u001b[0m\n",
      "\u001b[0;31mModuleNotFoundError\u001b[0m: No module named 'h5py'"
     ]
    }
   ],
   "source": [
    "import sys\n",
    "import oskar\n",
    "import matplotlib\n",
    "import matplotlib.pyplot as plt\n",
    "from astropy.visualization import astropy_mpl_style\n",
    "import numpy as np\n",
    "from rascil.apps import rascil_imager\n",
    "from rascil.processing_components.util.performance import (\n",
    "    performance_store_dict,\n",
    "    performance_environment,\n",
    ")\n",
    "from astropy.utils.data import get_pkg_data_filename\n",
    "from astropy.io import fits"
   ]
  },
  {
   "cell_type": "code",
   "execution_count": 2,
   "id": "4e9a0aad-cbef-40fb-a1e1-105cffd83cea",
   "metadata": {
    "tags": []
   },
   "outputs": [
    {
     "ename": "NameError",
     "evalue": "name 'plt' is not defined",
     "output_type": "error",
     "traceback": [
      "\u001b[0;31m---------------------------------------------------------------------------\u001b[0m",
      "\u001b[0;31mNameError\u001b[0m                                 Traceback (most recent call last)",
      "\u001b[0;32m/var/folders/pt/pfkrrbm532g53xr9t0vpbw780000gn/T/ipykernel_28353/3036776047.py\u001b[0m in \u001b[0;36m<module>\u001b[0;34m\u001b[0m\n\u001b[0;32m----> 1\u001b[0;31m \u001b[0mplt\u001b[0m\u001b[0;34m.\u001b[0m\u001b[0mstyle\u001b[0m\u001b[0;34m.\u001b[0m\u001b[0muse\u001b[0m\u001b[0;34m(\u001b[0m\u001b[0mastropy_mpl_style\u001b[0m\u001b[0;34m)\u001b[0m\u001b[0;34m\u001b[0m\u001b[0;34m\u001b[0m\u001b[0m\n\u001b[0m",
      "\u001b[0;31mNameError\u001b[0m: name 'plt' is not defined"
     ]
    }
   ],
   "source": [
    "plt.style.use(astropy_mpl_style)"
   ]
  },
  {
   "cell_type": "markdown",
   "id": "22b3dd01",
   "metadata": {},
   "source": [
    "## Simulation\n",
    "\n",
    "The sky and telescope simulation is currently provided completely by OSKAR.\n",
    "\n",
    "### Sky Module\n",
    "\n",
    "The sky module of OSKAR contains radiation sources, which are defined as array and can be passed to `oskar.Sky.from_array`."
   ]
  },
  {
   "cell_type": "code",
   "execution_count": null,
   "id": "51f5ede7",
   "metadata": {
    "tags": []
   },
   "outputs": [],
   "source": [
    "# Set the numerical precision to use.\n",
    "precision = \"single\"\n",
    "\n",
    "# Create a sky model containing three sources from a numpy array.\n",
    "sky_data = np.array([\n",
    "        [20.0, -30.0, 1, 0, 0, 0, 100.0e6, -0.7, 0.0, 0,   0,   0],\n",
    "        [20.0, -30.5, 3, 2, 2, 0, 100.0e6, -0.7, 0.0, 600, 50,  45],\n",
    "        [20.5, -30.5, 3, 0, 0, 2, 100.0e6, -0.7, 0.0, 700, 10, -10]])\n",
    "sky = oskar.Sky.from_array(sky_data, precision)  # Pass precision here."
   ]
  },
  {
   "cell_type": "markdown",
   "id": "d15a1b55",
   "metadata": {},
   "source": [
    "### Telescope Module\n",
    "\n",
    "Various observation parameters and meta information `params` must be passed to the telescope module `oskar.Interferometer` of OSKAR as `oskar.SettingsTree`."
   ]
  },
  {
   "cell_type": "code",
   "execution_count": null,
   "id": "06c2e94d-e3f1-4cb9-bfc5-5a6cf57459f9",
   "metadata": {
    "tags": []
   },
   "outputs": [],
   "source": [
    "# Basic settings. (Note that the sky model is set up later.)\n",
    "params = {\n",
    "    \"simulator\": {\n",
    "        \"use_gpus\": False\n",
    "    },\n",
    "    \"observation\" : {\n",
    "        \"num_channels\": 64,\n",
    "        \"start_frequency_hz\": 100e6,\n",
    "        \"frequency_inc_hz\": 20e6,\n",
    "        \"phase_centre_ra_deg\": 20,\n",
    "        \"phase_centre_dec_deg\": -30,\n",
    "        \"num_time_steps\": 24,\n",
    "        \"start_time_utc\": \"01-01-2000 12:00:00.000\",\n",
    "        \"length\": \"12:00:00.000\"\n",
    "    },\n",
    "    \"telescope\": {\n",
    "        \"input_directory\": \"../data/telescope.tm\"\n",
    "    },\n",
    "    \"interferometer\": {\n",
    "        \"ms_filename\": \"visibilities.ms\",\n",
    "        \"channel_bandwidth_hz\": 1e6,\n",
    "        \"time_average_sec\": 10\n",
    "    }\n",
    "}\n",
    "settings = oskar.SettingsTree(\"oskar_sim_interferometer\")\n",
    "settings.from_dict(params)\n",
    "\n",
    "if precision == \"single\":\n",
    "    settings[\"simulator/double_precision\"] = False\n",
    "\n",
    "# Set the sky model and run the simulation.\n",
    "sim = oskar.Interferometer(settings=settings)"
   ]
  },
  {
   "cell_type": "markdown",
   "id": "1868693f",
   "metadata": {},
   "source": [
    "### Observation Simulation\n",
    "\n",
    "Now the sky module must be passed to the interferometer and the simulation of the observation must be started to generate the measurement set."
   ]
  },
  {
   "cell_type": "code",
   "execution_count": null,
   "id": "59b6d11e",
   "metadata": {
    "tags": []
   },
   "outputs": [],
   "source": [
    "sim.set_sky_model(sky)\n",
    "sim.run()"
   ]
  },
  {
   "cell_type": "markdown",
   "id": "b9e0bd1b",
   "metadata": {},
   "source": [
    "## Processing\n",
    "\n",
    "After the observation is made with the telescope, a calibration of the measured data must be performed, followed by the reconstruction of the image.\n",
    "\n",
    "### Calibration after Observation\n",
    "\n",
    "toDo"
   ]
  },
  {
   "cell_type": "code",
   "execution_count": null,
   "id": "e01ea9f0",
   "metadata": {
    "tags": []
   },
   "outputs": [],
   "source": [
    "# Code here"
   ]
  },
  {
   "cell_type": "markdown",
   "id": "5a1ca8bf",
   "metadata": {},
   "source": [
    "### Imaging\n",
    "\n",
    "Start an mmclean algorithm with the visibilites.ms as an input to deconvolve. \n",
    "To use dask cluster where you can see the progress, first create a dask cluster in the dask-extension on the left. \n",
    "Then copy the scheduler adress into the variable below. It might be correct already.\n",
    "\n",
    "If you don't do this, remove the --dask_scheduler option from the options in the start_imager call.\n",
    "Then RASCIL starts its own scheduler, you will however not be able to see the dashbaord, as the port is probably not forwarded by docker."
   ]
  },
  {
   "cell_type": "code",
   "execution_count": null,
   "id": "71820804-3b7a-47be-ac9e-c4058ea50436",
   "metadata": {
    "tags": []
   },
   "outputs": [],
   "source": [
    "#def start_imager(rawargs):\n",
    "#    parser = rascil_imager.cli_parser()\n",
    "#    args = parser.parse_args(rawargs)\n",
    "#    performance_environment(args.performance_file, mode=\"w\")\n",
    "#    performance_store_dict(args.performance_file, \"cli_args\", vars(args), mode=\"a\")\n",
    "#    image_name = rascil_imager.imager(args)\n",
    "#\n",
    "#start_imager(\n",
    "#    [\n",
    "#        '--ingest_msname','visibilities.ms',\n",
    "#        '--ingest_dd', '0', \n",
    "#        '--ingest_vis_nchan', '64',\n",
    "#        '--ingest_chan_per_blockvis', '4' ,\n",
    "#        '--ingest_average_blockvis', 'True',\n",
    "#        '--imaging_npixel', '2048', \n",
    "#        '--imaging_cellsize', '3.878509448876288e-05',\n",
    "#        '--imaging_weighting', 'robust',\n",
    "#        '--imaging_robustness', '-0.5',\n",
    "#        '--clean_nmajor', '5' ,\n",
    "#        '--clean_algorithm', 'mmclean',\n",
    "#        '--clean_scales', '0', '6', '10', '30', '60',\n",
    "#        '--clean_fractional_threshold', '0.3',\n",
    "#        '--clean_threshold', '0.12e-3',\n",
    "#        '--clean_nmoment' ,'5',\n",
    "#        '--clean_psf_support', '640',\n",
    "#        '--clean_restored_output', 'integrated'\n",
    "#    ])"
   ]
  },
  {
   "cell_type": "code",
   "execution_count": null,
   "id": "f67e1ffa-f6d1-4568-9581-5c47b7d20e12",
   "metadata": {},
   "outputs": [],
   "source": [
    "from rascil.workflows import \\\n",
    "    invert_list_rsexecute_workflow, \\\n",
    "    deconvolve_list_rsexecute_workflow, \\\n",
    "    create_blockvisibility_from_ms_rsexecute, rsexecute, \\\n",
    "    weight_list_rsexecute_workflow, \\\n",
    "    continuum_imaging_skymodel_list_rsexecute_workflow\n",
    "\n",
    "from rascil.workflows.rsexecute.execution_support import rsexecute\n",
    "from rascil.processing_components.visibility.operations import convert_blockvisibility_to_stokesI\n",
    "from rascil.data_models import PolarisationFrame\n",
    "import dask"
   ]
  },
  {
   "cell_type": "code",
   "execution_count": null,
   "id": "23f6b24a-742e-4d1f-a171-750fbfcf816b",
   "metadata": {},
   "outputs": [],
   "source": []
  },
  {
   "cell_type": "code",
   "execution_count": null,
   "id": "be3a78cb-dd16-48da-9bc6-b37f40c35b25",
   "metadata": {},
   "outputs": [],
   "source": [
    "# read visibilities from ms locally (to prevent dask workers from not finding the ms file)\n",
    "rsexecute.set_client(use_dask=False)"
   ]
  },
  {
   "cell_type": "code",
   "execution_count": 1,
   "id": "771a9938-8cee-4f8f-8b9f-b734d06c646c",
   "metadata": {},
   "outputs": [
    {
     "ename": "NameError",
     "evalue": "name 'create_blockvisibility_from_ms_rsexecute' is not defined",
     "output_type": "error",
     "traceback": [
      "\u001b[0;31m---------------------------------------------------------------------------\u001b[0m",
      "\u001b[0;31mNameError\u001b[0m                                 Traceback (most recent call last)",
      "\u001b[0;32m/var/folders/pt/pfkrrbm532g53xr9t0vpbw780000gn/T/ipykernel_27819/4116875245.py\u001b[0m in \u001b[0;36m<module>\u001b[0;34m\u001b[0m\n\u001b[1;32m      5\u001b[0m \u001b[0;34m\u001b[0m\u001b[0m\n\u001b[1;32m      6\u001b[0m \u001b[0;31m# Create a list of blockvisibilities\u001b[0m\u001b[0;34m\u001b[0m\u001b[0;34m\u001b[0m\u001b[0;34m\u001b[0m\u001b[0m\n\u001b[0;32m----> 7\u001b[0;31m bvis_list = create_blockvisibility_from_ms_rsexecute('visibilities.ms/', \n\u001b[0m\u001b[1;32m      8\u001b[0m                                                      \u001b[0mnchan_per_blockvis\u001b[0m\u001b[0;34m=\u001b[0m\u001b[0mnchan_per_blockvis\u001b[0m\u001b[0;34m,\u001b[0m\u001b[0;34m\u001b[0m\u001b[0;34m\u001b[0m\u001b[0m\n\u001b[1;32m      9\u001b[0m                                                      \u001b[0mdds\u001b[0m\u001b[0;34m=\u001b[0m\u001b[0mdds\u001b[0m\u001b[0;34m,\u001b[0m\u001b[0;34m\u001b[0m\u001b[0;34m\u001b[0m\u001b[0m\n",
      "\u001b[0;31mNameError\u001b[0m: name 'create_blockvisibility_from_ms_rsexecute' is not defined"
     ]
    }
   ],
   "source": [
    "dds = [0]\n",
    "channels_per_dd = 64\n",
    "nchan_per_blockvis = 4\n",
    "nout = channels_per_dd // nchan_per_blockvis\n",
    "\n",
    "# Create a list of blockvisibilities\n",
    "bvis_list = create_blockvisibility_from_ms_rsexecute('visibilities.ms/', \n",
    "                                                     nchan_per_blockvis=nchan_per_blockvis, \n",
    "                                                     dds=dds, \n",
    "                                                     nout=nout,\n",
    "                                                     average_channels=True)"
   ]
  },
  {
   "cell_type": "markdown",
   "id": "d657919d-9d5d-436c-a550-e06b225fdcfc",
   "metadata": {},
   "source": [
    "### Info: Dask Cluster\n",
    "\n",
    "Create a new local cluster on the left with the dask-labextension.\n",
    "Then just drag the blue box of the cluster in the notebook and it will create a cell like the one below.\n",
    "Or just change the scheduler address in the box below."
   ]
  },
  {
   "cell_type": "code",
   "execution_count": null,
   "id": "06d85cb0-77e3-43ef-b654-b5cbefaa360f",
   "metadata": {},
   "outputs": [],
   "source": [
    "from dask.distributed import Client\n",
    "\n",
    "client = Client(\"tcp://127.0.0.1:43619\")\n",
    "client"
   ]
  },
  {
   "cell_type": "code",
   "execution_count": null,
   "id": "c6d82b86-0390-4165-84a4-3ec7a3562a85",
   "metadata": {},
   "outputs": [],
   "source": [
    "#set execute to existing dask cluster (Tip: if no cluster exists you can create one in the dask-labextension tab to the left)\n",
    "rsexecute.set_client(client=client, use_dask=True)"
   ]
  },
  {
   "cell_type": "code",
   "execution_count": null,
   "id": "48280479-ecd8-487c-b7fe-397113bf1d59",
   "metadata": {},
   "outputs": [],
   "source": [
    "# covnert visibility to stokes I\n",
    "bvis_list = [rsexecute.execute(convert_blockvisibility_to_stokesI)(vis) for vis in bvis_list]"
   ]
  },
  {
   "cell_type": "code",
   "execution_count": null,
   "id": "1c3dd28c-1011-4e0d-9952-fa84ac649a3d",
   "metadata": {},
   "outputs": [],
   "source": [
    "#create model images from all visibilites\n",
    "modelimage_list = [rsexecute.execute(create_image_from_visibility)(vis, \n",
    "                                                                   npixel=2048, \n",
    "                                                                   nchan=1, \n",
    "                                                                   cellsize=3.878509448876288e-05, \n",
    "                                                                   polarisationFrame=PolarisationFrame('stokesI')) \n",
    "                   for vis in bvis_list]"
   ]
  },
  {
   "cell_type": "code",
   "execution_count": null,
   "id": "e49f272a-d4d6-4d79-a9b8-0f6e1c35bc39",
   "metadata": {},
   "outputs": [],
   "source": [
    "# weight visibilities\n",
    "bvis_list = weight_list_rsexecute_workflow(bvis_list, \n",
    "                                        modelimage_list, \n",
    "                                        weigthing= 'robust', \n",
    "                                        robustness=-0.5)"
   ]
  },
  {
   "cell_type": "code",
   "execution_count": null,
   "id": "8cfbaa95-14fd-4bf1-a397-9011c11aa566",
   "metadata": {},
   "outputs": [],
   "source": [
    "# compute deconvolution\n",
    "result = continuum_imaging_skymodel_list_rsexecute_workflow(\n",
    "    bvis_list,\n",
    "    modelimage_list,\n",
    "    context='ng',\n",
    "    threads=4,\n",
    "    wstacking=True,\n",
    "    niter=1000,\n",
    "    nmajor=5,\n",
    "    algorithm='mmclean',\n",
    "    gain=0.1,\n",
    "    scales= [0, 6, 10, 30, 60],\n",
    "    fractional_threshold=0.3,\n",
    "    threshold=0.00012,\n",
    "    nmoment=5,\n",
    "    psf_support=640,\n",
    "    restored_output='integrated',\n",
    "    deconvolve_facets=1,\n",
    "    deconvolve_overlap=32,\n",
    "    deconvolve_taper='tukey',\n",
    "    restore_facets=1,\n",
    "    restore_overlap=32,\n",
    "    restore_taper='tukey',\n",
    "    dft_compute_kernel=None,\n",
    "    component_threshold=None,\n",
    "    component_method='fit',\n",
    "    flat_sky=False,\n",
    "    clean_beam=None,\n",
    ")\n",
    "\n",
    "# start computation on dask cluster\n",
    "result = rsexecute.compute(result, sync=True)"
   ]
  },
  {
   "cell_type": "markdown",
   "id": "071fd30f-76a3-4ec8-9572-1ead1b94db53",
   "metadata": {},
   "source": [
    "### Info: Dask Dashboard\n",
    "\n",
    "To see the execution of the dask-dashboard, you can now simply open the different panels in the dask-labextension to the left. For example the Graph or the Task Stream give you a good representation where the computation currently is.\n",
    "\n",
    "Also if you stop the calculation with the stop button on top. You need to run the client setup cell again, else you will encounter an IOLoop closed error."
   ]
  },
  {
   "cell_type": "markdown",
   "id": "5f1a51e6",
   "metadata": {},
   "source": [
    "## Analysis and Comparison\n",
    "\n",
    "toDo"
   ]
  },
  {
   "cell_type": "code",
   "execution_count": null,
   "id": "5ff6d94d-2643-468d-b0ab-a9f72feb62e2",
   "metadata": {
    "tags": []
   },
   "outputs": [],
   "source": [
    "# matplotlib.use(\"Agg\") from rascil_imager.py causes the problem that matplotlib isn't able to plot in the notebook\n",
    "image_file = get_pkg_data_filename('visibilities_nmoment5_cip_deconvolved.fits')\n",
    "fits.info(image_file)"
   ]
  },
  {
   "cell_type": "code",
   "execution_count": null,
   "id": "cb378147-a901-46ae-a1e3-2320b94d497b",
   "metadata": {
    "tags": []
   },
   "outputs": [],
   "source": [
    "image_data = fits.getdata(image_file)\n",
    "image_data = np.log(image_data.sum(axis=(0,1)))\n",
    "_ = plt.figure(figsize=(8,6))\n",
    "_ = plt.imshow(image_data, cmap='gray')\n",
    "_ = plt.colorbar()"
   ]
  }
 ],
 "metadata": {
  "interpreter": {
   "hash": "a424f534593172213fc036407833d41a2357dbed8b39ef293519ab55d7a4ebc3"
  },
  "kernelspec": {
   "display_name": "Python 3.8.12 64-bit ('pipeline_env_38': conda)",
   "name": "python3"
  },
  "language_info": {
   "codemirror_mode": {
    "name": "ipython",
    "version": 3
   },
   "file_extension": ".py",
   "mimetype": "text/x-python",
   "name": "python",
   "nbconvert_exporter": "python",
   "pygments_lexer": "ipython3",
   "version": "3.8.12"
  }
 },
 "nbformat": 4,
 "nbformat_minor": 5
}

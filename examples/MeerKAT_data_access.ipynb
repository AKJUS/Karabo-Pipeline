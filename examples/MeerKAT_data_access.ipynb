{
 "cells": [
  {
   "cell_type": "markdown",
   "id": "f3e265f0",
   "metadata": {},
   "source": [
    "# MeerKAT Data\n",
    "\n",
    "MeerKAT observations have different sizes from some GB to TB. To provide access to such data sets, [katdal](https://github.com/ska-sa/katdal) provides an interface. The data products are available as *MeerKAT Visibility Format (MVF)*. [katdal](https://github.com/ska-sa/katdal) additionally offers a script which converts the *MVF* to CASA measurement *.ms* files."
   ]
  },
  {
   "cell_type": "code",
   "execution_count": null,
   "id": "798de378",
   "metadata": {},
   "outputs": [],
   "source": [
    "#!pip install katdal\n",
    "import katdal\n",
    "import time, yaml"
   ]
  },
  {
   "cell_type": "markdown",
   "id": "f4a1cc74",
   "metadata": {},
   "source": [
    "The observation we used to run this Notebook is:\n",
    "\n",
    "- Observer: Operator\n",
    "- Experiment ID: 20210605-0009\n",
    "- Description: 'Meertime phase up with flatten bandpass'\n",
    "- Observed from 2021-06-06 01:06:13.567 CEST to 2021-06-06 01:13:09.646 CEST\n",
    "- Dump rate / period: 0.12498 Hz / 8.002 s\n",
    "\n",
    "If you want to run the same configurations, please insert the according token in `config.yaml`."
   ]
  },
  {
   "cell_type": "markdown",
   "id": "da508722",
   "metadata": {},
   "source": [
    "## Access to Data\n",
    "\n",
    "MeerKAT observation files are available through the [MeerKAT archive](https://archive.sarao.ac.za/). It requires a registration and login to get access. A detailed description is accessible through [Archive Interface User Guide](https://archive.sarao.ac.za/statics/Archive_Interface_User_Guide.pdf).\n",
    "\n",
    "To get access through [katdal](https://github.com/ska-sa/katdal) you have to generate an *rdp-link with token* on the [MeerKAT archive](https://archive.sarao.ac.za/) and copy the token into the `katdal.open` token argument. The URL doesn't need an update since it should never change. \n",
    "\n",
    "**Note: all tokens have expiry dates**"
   ]
  },
  {
   "cell_type": "code",
   "execution_count": null,
   "id": "e57e9f4d",
   "metadata": {},
   "outputs": [],
   "source": [
    "with open('../config.yaml', 'r') as stream:\n",
    "    token = yaml.safe_load(stream)['MeerKAT_archive_token']\n",
    "\n",
    "stime = time.time()\n",
    "data = katdal.open('https://archive-gw-1.kat.ac.za/1622934371/1622934371_sdp_l0.full.rdb',\n",
    "                   s3_endpoint_url='https://archive-gw-1.kat.ac.za',\n",
    "                   token=token)\n",
    "print('time to read file = {} s'.format(time.time() - stime))\n",
    "print('(dumps x channels x baselines) = {}'.format(data.shape))\n",
    "print(data.vis.dataset)"
   ]
  },
  {
   "cell_type": "markdown",
   "id": "a726b673",
   "metadata": {},
   "source": [
    "## Observation Details"
   ]
  },
  {
   "cell_type": "code",
   "execution_count": null,
   "id": "17ed10e6",
   "metadata": {
    "scrolled": true
   },
   "outputs": [],
   "source": [
    "print(data)"
   ]
  },
  {
   "cell_type": "markdown",
   "id": "7924d415",
   "metadata": {},
   "source": [
    "data.shape\\[0\\]: dumps\n",
    "\n",
    "data.shape\\[1\\]: channels\n",
    "\n",
    "data.shape\\[2\\]: correlation products"
   ]
  },
  {
   "cell_type": "code",
   "execution_count": null,
   "id": "8f886323",
   "metadata": {},
   "outputs": [],
   "source": [
    "data.shape"
   ]
  },
  {
   "cell_type": "markdown",
   "id": "7547ffcb",
   "metadata": {},
   "source": [
    "esimated memory of visibilities in Bytes: dumps \\* channels \\* correlation_products \\* 64(complex64) / 8"
   ]
  },
  {
   "cell_type": "code",
   "execution_count": null,
   "id": "f1ede82a",
   "metadata": {},
   "outputs": [],
   "source": [
    "vis_memory = int(data.shape[0]*data.shape[1]*data.shape[2]*64/8)\n",
    "vis_memory"
   ]
  },
  {
   "cell_type": "markdown",
   "id": "52895bd6",
   "metadata": {},
   "source": [
    "## Using the Data\n",
    "\n",
    "[katdal](https://github.com/ska-sa/katdal) provides functionality regarding filtering through `data.select`. This pre-filters the data so that when `data.vis` is accessed, not all the data has to be loaded. After that an `npumpy.ndarray` is returned, on which you can continue working as usual.\n",
    "\n",
    "The following chunks show a small example of data access. Many parameter settings can be derived from the output of \"print(data)\".\n",
    "\n",
    "select `timerange` from **Scans**\n",
    "\n",
    "select `targets` from **Targets**"
   ]
  },
  {
   "cell_type": "code",
   "execution_count": null,
   "id": "f91c3751",
   "metadata": {},
   "outputs": [],
   "source": [
    "data.select(timerange=('2021-06-05 23:11:53', '2021-06-05 23:13:05'), targets=[0])"
   ]
  },
  {
   "cell_type": "markdown",
   "id": "2d1c7880",
   "metadata": {},
   "source": [
    "select `spw` from **Spectral Windows**\n",
    "\n",
    "select `subarray` from **Subarrays**"
   ]
  },
  {
   "cell_type": "code",
   "execution_count": null,
   "id": "136f7fc4",
   "metadata": {},
   "outputs": [],
   "source": [
    "data.select(spw=0, subarray=0)"
   ]
  },
  {
   "cell_type": "markdown",
   "id": "9b936145",
   "metadata": {},
   "source": [
    "select `ants` from **ants** or **Antennas**\n",
    "\n",
    "select `pol` (polarisation) from {'H', 'V', 'HH', 'VV', 'HV', 'VH'}\n",
    "\n",
    "select `scans` from **Scans ScanState**\n",
    "\n",
    "select `freqrange` NOT sure yet"
   ]
  },
  {
   "cell_type": "code",
   "execution_count": null,
   "id": "51779ee2",
   "metadata": {},
   "outputs": [],
   "source": [
    "data.select(ants='m000,m001,m002,m003,m005,m006,m007,m008,m009',\n",
    "            pol='H', scans=(0,1,2), freqrange=(1700e6, 1800e6))"
   ]
  },
  {
   "cell_type": "markdown",
   "id": "d8d1fb4a",
   "metadata": {},
   "source": [
    "[katdal](https://github.com/ska-sa/katdal) provides more filter functionality. The code can be found [here](https://github.com/ska-sa/katdal/blob/master/katdal/dataset.py) in `DataSet`.\n",
    "\n",
    "Note the `[:]` indexing, as the `vis` and `timestamps` properties are special `LazyIndexer` objects that only give you the actual data when you use indexing, in order not to inadvertently load the entire array into memory.\n",
    "\n",
    "For the example dataset and no selection the `vis` array will have a shape of `data.shape`. The time dimension is labelled by `d.timestamps`, the frequency dimension by `d.channel_freqs` and the correlation product dimension by `d.corr_products`."
   ]
  },
  {
   "cell_type": "code",
   "execution_count": null,
   "id": "c0cbdb58",
   "metadata": {},
   "outputs": [],
   "source": [
    "#vis = data.vis[:] # loads the actual visibilities to `vis` as numpy.ndarray"
   ]
  },
  {
   "cell_type": "markdown",
   "id": "dd1e02ea",
   "metadata": {},
   "source": [
    "For a detailed description of how to use the library you can visit [katdal](https://github.com/ska-sa/katdal) repositroy. In addition, [MeerKAT-Cookbook](https://github.com/ska-sa/MeerKAT-Cookbook) also provides some examples of different use-cases using [katdal](https://github.com/ska-sa/katdal)."
   ]
  }
 ],
 "metadata": {
  "kernelspec": {
   "display_name": "Python 3 (ipykernel)",
   "language": "python",
   "name": "python3"
  },
  "language_info": {
   "codemirror_mode": {
    "name": "ipython",
    "version": 3
   },
   "file_extension": ".py",
   "mimetype": "text/x-python",
   "name": "python",
   "nbconvert_exporter": "python",
   "pygments_lexer": "ipython3",
   "version": "3.8.12"
  }
 },
 "nbformat": 4,
 "nbformat_minor": 5
}

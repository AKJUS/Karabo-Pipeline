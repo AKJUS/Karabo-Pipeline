{
 "cells": [
  {
   "cell_type": "markdown",
   "id": "f3e265f0",
   "metadata": {},
   "source": [
    "# MeerKAT Data\n",
    "\n",
    "MeerKAT observations have different sizes from some GB to TB. To provide access to such data sets, [katdal](https://github.com/ska-sa/katdal) provides an interface. The data products are available as *SeaKAT Visibility Format (MVF)*. [katdal](https://github.com/ska-sa/katdal) additionally offers a script which converts the *MVF* to CASA measurement *.ms* files."
   ]
  },
  {
   "cell_type": "code",
   "execution_count": null,
   "id": "798de378",
   "metadata": {},
   "outputs": [],
   "source": [
    "#!pip install katdal\n",
    "import katdal\n",
    "import time, yaml"
   ]
  },
  {
   "cell_type": "markdown",
   "id": "da508722",
   "metadata": {},
   "source": [
    "## Access to Data\n",
    "\n",
    "MeerKAT observation files are available through the [MeerKAT archive](https://archive.sarao.ac.za/). It requires a registration and login to get access. A detailed description is accessible through [Archive Interface User Guide](https://archive.sarao.ac.za/statics/Archive_Interface_User_Guide.pdf).\n",
    "\n",
    "To get access through [katdal](https://github.com/ska-sa/katdal) you have to generate an *rdp-link with token* on the [MeerKAT archive](https://archive.sarao.ac.za/) and copy the token into the `katdal.open` token argument. The URL doesn't need an update since it should never change. \n",
    "\n",
    "**Note: all tokens have expiry dates**"
   ]
  },
  {
   "cell_type": "code",
   "execution_count": null,
   "id": "e57e9f4d",
   "metadata": {},
   "outputs": [],
   "source": [
    "with open('../config.yaml', 'r') as stream:\n",
    "    token = yaml.safe_load(stream)['MeerKAT_archive_token']\n",
    "\n",
    "stime = time.time()\n",
    "data = katdal.open('https://archive-gw-1.kat.ac.za/1622934371/1622934371_sdp_l0.full.rdb',\n",
    "                   s3_endpoint_url='https://archive-gw-1.kat.ac.za',\n",
    "                   token=token)\n",
    "print('time to read file = {} s'.format(time.time() - stime))\n",
    "print('(dumps x channels x baselines) = {}'.format(data.shape))\n",
    "print(data.vis.dataset)"
   ]
  },
  {
   "cell_type": "markdown",
   "id": "a726b673",
   "metadata": {},
   "source": [
    "## Observation Details"
   ]
  },
  {
   "cell_type": "code",
   "execution_count": null,
   "id": "17ed10e6",
   "metadata": {
    "scrolled": true
   },
   "outputs": [],
   "source": [
    "print(data)"
   ]
  },
  {
   "cell_type": "markdown",
   "id": "7924d415",
   "metadata": {},
   "source": [
    "data.shape\\[0\\]: dumps\n",
    "\n",
    "data.shape\\[1\\]: channels\n",
    "\n",
    "data.shape\\[2\\]: correlation products"
   ]
  },
  {
   "cell_type": "code",
   "execution_count": null,
   "id": "8f886323",
   "metadata": {},
   "outputs": [],
   "source": [
    "data.shape"
   ]
  },
  {
   "cell_type": "markdown",
   "id": "52895bd6",
   "metadata": {},
   "source": [
    "## Use the Data\n",
    "\n",
    "Note the `[:]` indexing, as the `vis` and `timestamps` properties are special `LazyIndexer` objects that only give you the actual data when you use indexing, in order not to inadvertently load the entire array into memory.\n",
    "\n",
    "For the example dataset and no selection the `vis` array will have a shape of `data.shape`. The time dimension is labelled by `d.timestamps`, the frequency dimension by `d.channel_freqs` and the correlation product dimension by `d.corr_products`."
   ]
  },
  {
   "cell_type": "code",
   "execution_count": null,
   "id": "f91c3751",
   "metadata": {},
   "outputs": [],
   "source": [
    "# vis = data.vis[:] # loads the actual visibilities to `vis` as numpy.ndarray"
   ]
  }
 ],
 "metadata": {
  "kernelspec": {
   "display_name": "Python 3 (ipykernel)",
   "language": "python",
   "name": "python3"
  },
  "language_info": {
   "codemirror_mode": {
    "name": "ipython",
    "version": 3
   },
   "file_extension": ".py",
   "mimetype": "text/x-python",
   "name": "python",
   "nbconvert_exporter": "python",
   "pygments_lexer": "ipython3",
   "version": "3.8.12"
  }
 },
 "nbformat": 4,
 "nbformat_minor": 5
}

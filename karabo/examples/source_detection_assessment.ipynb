{
 "cells": [
  {
   "cell_type": "markdown",
   "id": "87d67272",
   "metadata": {
    "pycharm": {
     "name": "#%% md\n"
    }
   },
   "source": [
    "# Source Detection Benchmark"
   ]
  },
  {
   "cell_type": "code",
   "execution_count": 2,
   "id": "7f2f594e",
   "metadata": {
    "pycharm": {
     "name": "#%%\n"
    }
   },
   "outputs": [],
   "source": [
    "import numpy as np\n",
    "from karabo.sourcedetection.evaluation import SourceDetectionEvaluation\n",
    "import matplotlib.pyplot as plt\n",
    "\n",
    "# Render matplotlib inline\n",
    "%matplotlib inline"
   ]
  },
  {
   "cell_type": "markdown",
   "id": "747d5480",
   "metadata": {
    "pycharm": {
     "name": "#%% md\n"
    }
   },
   "source": [
    "## Evaluation Measures\n",
    "\n",
    "true positives (TP), false positives (FP) or false negatives (FN)\n",
    "true sources correctly detected (TSD) = recall = TP / (TP + FN)\n",
    "reliability = precision = TP / (TP + FP)\n",
    "\n",
    "The strategy used to match the detections with the sources in the reference catalogue is the following: first, the closest detection for each source in the catalogue is found. Second, associations between sources and detections that are further away than a pre-established maximum distanceance are deleted. We assume that the centre of two different sources cannot be closer than the FWHM of the image, so this is the maximum distance selected. Next, where detections associated with more than one source from the catalogue are found, only the closest association is kept, deleting the others. In the same way, if a true source is associated with more than one detection, only the correspondence with the shortest distance is saved. Finally, the evaluation measures are computed: TP are the detections associated with a source, FP are detections without any associated source, while FN are sources with no associations with a detection (AUTOMATIC SOURCE DETECTION IN ASTRONOMICAL IMAGES, Marc MASIAS MOYSET 2014).\n",
    "\n",
    "The implementation of `automatic_assignment` is pretty similar, but not equal. For details read the docstring."
   ]
  },
  {
   "cell_type": "code",
   "execution_count": 15,
   "id": "3ee1679d",
   "metadata": {
    "pycharm": {
     "name": "#%%\n"
    }
   },
   "outputs": [
    {
     "name": "stdout",
     "output_type": "stream",
     "text": [
      "Shape of ground truth:  (8, 2)\n",
      "Shape of detection:  (9, 2)\n"
     ]
    }
   ],
   "source": [
    "# with this seed and max_dist it seems to be correct\n",
    "max_dist = 0.5\n",
    "gtruth = np.array([\n",
    "    [0.0, 0.0],\n",
    "    [1.1, 1.1],\n",
    "    [2.2, 2.2],\n",
    "    [3.3, 3.3],\n",
    "    [4.4, 4.4],\n",
    "    [5.5, 5.5],\n",
    "    [6.6, 6.6],\n",
    "    [7.7, 7.7],\n",
    "])\n",
    "\n",
    "\n",
    "# Flip gtruth to get a different result        \n",
    "detection = np.flipud(gtruth) + np.random.randn(*gtruth.shape) * 0.1\n",
    "detection = np.vstack((detection, np.array([-2, -2])))\n",
    "\n",
    "print('Shape of ground truth: ', gtruth.shape)\n",
    "print('Shape of detection: ', detection.shape)"
   ]
  },
  {
   "cell_type": "code",
   "execution_count": 19,
   "id": "c64cb778",
   "metadata": {
    "pycharm": {
     "name": "#%%\n"
    }
   },
   "outputs": [
    {
     "data": {
      "text/plain": [
       "array([[0.        , 7.        , 0.01970411],\n",
       "       [1.        , 6.        , 0.06513021],\n",
       "       [2.        , 5.        , 0.15163152],\n",
       "       [3.        , 4.        , 0.19893189],\n",
       "       [4.        , 3.        , 0.12044694],\n",
       "       [5.        , 2.        , 0.04297615],\n",
       "       [6.        , 1.        , 0.29506571],\n",
       "       [7.        , 0.        , 0.03955685]])"
      ]
     },
     "execution_count": 19,
     "metadata": {},
     "output_type": "execute_result"
    }
   ],
   "source": [
    "assigment = SourceDetectionEvaluation.automatic_assignment_of_ground_truth_and_prediction(gtruth, detection, max_dist, top_k=3)\n",
    "assigment"
   ]
  },
  {
   "cell_type": "code",
   "execution_count": 20,
   "id": "e7b006c2",
   "metadata": {
    "pycharm": {
     "name": "#%%\n"
    }
   },
   "outputs": [
    {
     "data": {
      "image/png": "[encoded data removed]",
      "text/plain": [
       "<Figure size 640x480 with 1 Axes>"
      ]
     },
     "metadata": {},
     "output_type": "display_data"
    }
   ],
   "source": [
    "plt.scatter(gtruth[:,0], gtruth[:,1], c='g', alpha=0.5, label='ground truth')\n",
    "plt.scatter(detection[:,0], detection[:,1], c='r', alpha=0.5, label='detection')\n",
    "plt.legend(['Ground truth', 'Detection'])\n",
    "plt.title('Source detection assessment')\n",
    "plt.show()"
   ]
  },
  {
   "cell_type": "markdown",
   "id": "4f7494a0",
   "metadata": {},
   "source": [
    "## Calculate TP, FP, FN"
   ]
  },
  {
   "cell_type": "code",
   "execution_count": 21,
   "id": "4df937a2",
   "metadata": {},
   "outputs": [
    {
     "data": {
      "text/plain": [
       "(8, 0, 1)"
      ]
     },
     "execution_count": 21,
     "metadata": {},
     "output_type": "execute_result"
    }
   ],
   "source": [
    "SourceDetectionEvaluation.calculate_evaluation_measures(gtruth, detection, assigment)"
   ]
  },
  {
   "cell_type": "markdown",
   "id": "2b22c742",
   "metadata": {},
   "source": [
    "## Test with bigger data"
   ]
  },
  {
   "cell_type": "code",
   "execution_count": 22,
   "id": "833c70ea",
   "metadata": {},
   "outputs": [],
   "source": [
    "gtruth = np.random.randn(500000, 2) * 10\n",
    "detected = np.flipud(gtruth)\n",
    "\n",
    "result = SourceDetectionEvaluation.automatic_assignment_of_ground_truth_and_prediction(gtruth, detected, max_dist, top_k=3)\n",
    "\n",
    "assert np.all(result[:, 0] == result[::-1, 1]), 'The assignment is not correct. The column with the ground truth should be idential to the reveresed detection column.'"
   ]
  },
  {
   "cell_type": "code",
   "execution_count": 25,
   "id": "79569fa2",
   "metadata": {},
   "outputs": [
    {
     "data": {
      "text/plain": [
       "array([[ 0.00000000e+00,  2.03600000e+03,  1.06376526e-01],\n",
       "       [ 1.00000000e+00,  9.29000000e+02,  1.66981210e-01],\n",
       "       [ 2.00000000e+00,  3.17100000e+03,  2.57870569e-01],\n",
       "       ...,\n",
       "       [ 4.99700000e+03, -1.00000000e+00,             inf],\n",
       "       [ 4.99800000e+03,  6.37000000e+02,  4.23450428e-01],\n",
       "       [ 4.99900000e+03,  4.28600000e+03,  1.12478767e-01]])"
      ]
     },
     "execution_count": 25,
     "metadata": {},
     "output_type": "execute_result"
    }
   ],
   "source": [
    "gtruth = np.random.randn(5000, 2) * 10\n",
    "detected = np.random.randn(5000, 2) * 10\n",
    "SourceDetectionEvaluation.automatic_assignment_of_ground_truth_and_prediction(gtruth, detected, max_dist, top_k=3)"
   ]
  },
  {
   "cell_type": "markdown",
   "id": "3423a996",
   "metadata": {},
   "source": [
    "## cdist vs KDTree"
   ]
  },
  {
   "cell_type": "code",
   "execution_count": 27,
   "id": "7ed916a9",
   "metadata": {},
   "outputs": [],
   "source": [
    "from scipy.spatial.distance import cdist\n",
    "from scipy.spatial import KDTree"
   ]
  },
  {
   "cell_type": "code",
   "execution_count": 42,
   "id": "a1c8f8f7",
   "metadata": {},
   "outputs": [],
   "source": [
    "gtruth = np.random.randn(5000, 2) * 10\n",
    "detected = np.random.randn(5000, 2) * 10"
   ]
  },
  {
   "cell_type": "code",
   "execution_count": 43,
   "id": "a439eb28",
   "metadata": {},
   "outputs": [
    {
     "name": "stdout",
     "output_type": "stream",
     "text": [
      "67 ms ± 2.57 ms per loop (mean ± std. dev. of 7 runs, 10 loops each)\n"
     ]
    }
   ],
   "source": [
    "%timeit cdist(gtruth, detected)"
   ]
  },
  {
   "cell_type": "code",
   "execution_count": 44,
   "id": "e9c77776",
   "metadata": {},
   "outputs": [
    {
     "name": "stdout",
     "output_type": "stream",
     "text": [
      "3.99 ms ± 173 µs per loop (mean ± std. dev. of 7 runs, 100 loops each)\n"
     ]
    }
   ],
   "source": [
    "%timeit KDTree(detected).query(gtruth, k=10, distance_upper_bound=max_dist)"
   ]
  },
  {
   "cell_type": "markdown",
   "id": "82fccf22",
   "metadata": {},
   "source": [
    "### cdist vs KDTree with more data"
   ]
  },
  {
   "cell_type": "code",
   "execution_count": 45,
   "id": "2901a350",
   "metadata": {},
   "outputs": [],
   "source": [
    "gtruth = np.random.randn(50000, 2) * 10\n",
    "detected = np.random.randn(50000, 2) * 10"
   ]
  },
  {
   "cell_type": "code",
   "execution_count": 46,
   "id": "bb3244a7",
   "metadata": {},
   "outputs": [
    {
     "name": "stdout",
     "output_type": "stream",
     "text": [
      "184 ms ± 13.4 ms per loop (mean ± std. dev. of 7 runs, 1 loop each)\n"
     ]
    }
   ],
   "source": [
    "%timeit KDTree(detected).query(gtruth, k=100, distance_upper_bound=max_dist)"
   ]
  },
  {
   "cell_type": "code",
   "execution_count": 47,
   "id": "37877991",
   "metadata": {},
   "outputs": [
    {
     "ename": "MemoryError",
     "evalue": "Unable to allocate 18.6 GiB for an array with shape (50000, 50000) and data type float64",
     "output_type": "error",
     "traceback": [
      "\u001b[0;31m---------------------------------------------------------------------------\u001b[0m",
      "\u001b[0;31mMemoryError\u001b[0m                               Traceback (most recent call last)",
      "\u001b[1;32m/home/kenfus/Karabo/Karabo-Pipeline/karabo/examples/source_detection_assessment.ipynb Cell 20\u001b[0m in \u001b[0;36m<cell line: 1>\u001b[0;34m()\u001b[0m\n\u001b[0;32m----> <a href='vscode-notebook-cell://wsl%2Bubuntu-20.04/home/kenfus/Karabo/Karabo-Pipeline/karabo/examples/source_detection_assessment.ipynb#X51sdnNjb2RlLXJlbW90ZQ%3D%3D?line=0'>1</a>\u001b[0m get_ipython()\u001b[39m.\u001b[39;49mrun_line_magic(\u001b[39m'\u001b[39;49m\u001b[39mtimeit\u001b[39;49m\u001b[39m'\u001b[39;49m, \u001b[39m'\u001b[39;49m\u001b[39mcdist(gtruth, detected)\u001b[39;49m\u001b[39m'\u001b[39;49m)\n",
      "File \u001b[0;32m~/miniconda3/envs/karabo_dev_env/lib/python3.9/site-packages/IPython/core/interactiveshell.py:2305\u001b[0m, in \u001b[0;36mInteractiveShell.run_line_magic\u001b[0;34m(self, magic_name, line, _stack_depth)\u001b[0m\n\u001b[1;32m   2303\u001b[0m     kwargs[\u001b[39m'\u001b[39m\u001b[39mlocal_ns\u001b[39m\u001b[39m'\u001b[39m] \u001b[39m=\u001b[39m \u001b[39mself\u001b[39m\u001b[39m.\u001b[39mget_local_scope(stack_depth)\n\u001b[1;32m   2304\u001b[0m \u001b[39mwith\u001b[39;00m \u001b[39mself\u001b[39m\u001b[39m.\u001b[39mbuiltin_trap:\n\u001b[0;32m-> 2305\u001b[0m     result \u001b[39m=\u001b[39m fn(\u001b[39m*\u001b[39;49margs, \u001b[39m*\u001b[39;49m\u001b[39m*\u001b[39;49mkwargs)\n\u001b[1;32m   2306\u001b[0m \u001b[39mreturn\u001b[39;00m result\n",
      "File \u001b[0;32m~/miniconda3/envs/karabo_dev_env/lib/python3.9/site-packages/IPython/core/magics/execution.py:1162\u001b[0m, in \u001b[0;36mExecutionMagics.timeit\u001b[0;34m(self, line, cell, local_ns)\u001b[0m\n\u001b[1;32m   1160\u001b[0m \u001b[39mfor\u001b[39;00m index \u001b[39min\u001b[39;00m \u001b[39mrange\u001b[39m(\u001b[39m0\u001b[39m, \u001b[39m10\u001b[39m):\n\u001b[1;32m   1161\u001b[0m     number \u001b[39m=\u001b[39m \u001b[39m10\u001b[39m \u001b[39m*\u001b[39m\u001b[39m*\u001b[39m index\n\u001b[0;32m-> 1162\u001b[0m     time_number \u001b[39m=\u001b[39m timer\u001b[39m.\u001b[39;49mtimeit(number)\n\u001b[1;32m   1163\u001b[0m     \u001b[39mif\u001b[39;00m time_number \u001b[39m>\u001b[39m\u001b[39m=\u001b[39m \u001b[39m0.2\u001b[39m:\n\u001b[1;32m   1164\u001b[0m         \u001b[39mbreak\u001b[39;00m\n",
      "File \u001b[0;32m~/miniconda3/envs/karabo_dev_env/lib/python3.9/site-packages/IPython/core/magics/execution.py:156\u001b[0m, in \u001b[0;36mTimer.timeit\u001b[0;34m(self, number)\u001b[0m\n\u001b[1;32m    154\u001b[0m gc\u001b[39m.\u001b[39mdisable()\n\u001b[1;32m    155\u001b[0m \u001b[39mtry\u001b[39;00m:\n\u001b[0;32m--> 156\u001b[0m     timing \u001b[39m=\u001b[39m \u001b[39mself\u001b[39;49m\u001b[39m.\u001b[39;49minner(it, \u001b[39mself\u001b[39;49m\u001b[39m.\u001b[39;49mtimer)\n\u001b[1;32m    157\u001b[0m \u001b[39mfinally\u001b[39;00m:\n\u001b[1;32m    158\u001b[0m     \u001b[39mif\u001b[39;00m gcold:\n",
      "File \u001b[0;32m<magic-timeit>:1\u001b[0m, in \u001b[0;36minner\u001b[0;34m(_it, _timer)\u001b[0m\n",
      "File \u001b[0;32m~/miniconda3/envs/karabo_dev_env/lib/python3.9/site-packages/scipy/spatial/distance.py:2929\u001b[0m, in \u001b[0;36mcdist\u001b[0;34m(XA, XB, metric, out, **kwargs)\u001b[0m\n\u001b[1;32m   2927\u001b[0m \u001b[39mif\u001b[39;00m metric_info \u001b[39mis\u001b[39;00m \u001b[39mnot\u001b[39;00m \u001b[39mNone\u001b[39;00m:\n\u001b[1;32m   2928\u001b[0m     cdist_fn \u001b[39m=\u001b[39m metric_info\u001b[39m.\u001b[39mcdist_func\n\u001b[0;32m-> 2929\u001b[0m     \u001b[39mreturn\u001b[39;00m cdist_fn(XA, XB, out\u001b[39m=\u001b[39;49mout, \u001b[39m*\u001b[39;49m\u001b[39m*\u001b[39;49mkwargs)\n\u001b[1;32m   2930\u001b[0m \u001b[39melif\u001b[39;00m mstr\u001b[39m.\u001b[39mstartswith(\u001b[39m\"\u001b[39m\u001b[39mtest_\u001b[39m\u001b[39m\"\u001b[39m):\n\u001b[1;32m   2931\u001b[0m     metric_info \u001b[39m=\u001b[39m _TEST_METRICS\u001b[39m.\u001b[39mget(mstr, \u001b[39mNone\u001b[39;00m)\n",
      "\u001b[0;31mMemoryError\u001b[0m: Unable to allocate 18.6 GiB for an array with shape (50000, 50000) and data type float64"
     ]
    }
   ],
   "source": [
    "%timeit cdist(gtruth, detected)"
   ]
  },
  {
   "cell_type": "code",
   "execution_count": null,
   "id": "7542c5e5",
   "metadata": {},
   "outputs": [],
   "source": []
  }
 ],
 "metadata": {
  "kernelspec": {
   "display_name": "Python 3.9.13 ('karabo_dev_env')",
   "language": "python",
   "name": "python3"
  },
  "language_info": {
   "codemirror_mode": {
    "name": "ipython",
    "version": 3
   },
   "file_extension": ".py",
   "mimetype": "text/x-python",
   "name": "python",
   "nbconvert_exporter": "python",
   "pygments_lexer": "ipython3",
   "version": "3.9.13"
  },
  "vscode": {
   "interpreter": {
    "hash": "6bae7b2bf0cf5fb79dbc76ebbe3d27c6cf9f2d3ad78385a8a6749baa1a5cc4ff"
   }
  }
 },
 "nbformat": 4,
 "nbformat_minor": 5
}

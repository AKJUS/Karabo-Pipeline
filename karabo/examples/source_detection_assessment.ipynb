{
 "cells": [
  {
   "cell_type": "markdown",
   "id": "95a67d90",
   "metadata": {},
   "source": [
    "# Source Detection Benchmark"
   ]
  },
  {
   "cell_type": "code",
   "execution_count": null,
   "id": "71107117",
   "metadata": {},
   "outputs": [],
   "source": [
    "from scipy.spatial.distance import cdist\n",
    "import numpy as np"
   ]
  },
  {
   "cell_type": "markdown",
   "id": "07f9dc31",
   "metadata": {},
   "source": [
    "## Evaluation Measures\n",
    "\n",
    "true positives (TP), false positives (FP) or false negatives (FN)\n",
    "true sources correctly detected (TSD) = recall = TP / (TP + FN)\n",
    "reliability = precision = TP / (TP + FP)\n",
    "\n",
    "The strategy used to match the detections with the sources in the reference catalogue is the following: first, the closest detection for each source in the catalogue is found. Second, associations between sources and detections that are further away than a pre-established maximum distance are deleted. We assume that the centre of two different sources cannot be closer than the FWHM of the image, so this is the maximum distance selected. Next, where detections associated with more than one source from the catalogue are found, only the closest association is kept, deleting the others. In the same way, if a true source is associated with more than one detection, only the correspondence with the shortest distance is saved. Finally, the evaluation measures are computed: TP are the detections associated with a source, FP are detections without any associated source, while FN are sources with no associations with a detection (AUTOMATIC SOURCE DETECTION IN ASTRONOMICAL IMAGES, Marc MASIAS MOYSET 2014)."
   ]
  },
  {
   "cell_type": "code",
   "execution_count": null,
   "id": "fd049f6b",
   "metadata": {},
   "outputs": [],
   "source": [
    "def automatic_assignment(gtruth, predicted, max_dist):\n",
    "    eucl_dists = cdist(gtruth, predicted)\n",
    "    alloc_idxs = np.argmin(eucl_dists, axis=1) # pics first if multiple sources would have exaclty same min distance\n",
    "    min_eucl_dists = np.array([eucl_dists[i,j] for i, j in zip(np.arange(eucl_dists.shape[0]), alloc_idxs)])\n",
    "    assignment_idxs = np.where(min_eucl_dists <= max_dist)[0]\n",
    "    # marks the gtruth which have a valid prediction assignment as True\n",
    "    gtruth_predicted = np.array([False] * gtruth.shape[0])\n",
    "    gtruth_predicted[assignment_idxs] = True\n",
    "    # marks the predictions with a valid assignment of the gtruth as True\n",
    "    predicted_assigned = np.array([False] * predicted.shape[0])\n",
    "    predicted_assigned[alloc_idxs[assignment_idxs]] = True\n",
    "    return gtruth_predicted, predicted_assigned\n",
    "\n",
    "def calc_eval_measures(gtruth, predicted, max_dist):\n",
    "    gtruth_predicted, predicted_assigned = automatic_assignment(gtruth, predicted, max_dist)\n",
    "    fn = len(gtruth_predicted) - np.sum(gtruth_predicted)\n",
    "    tp = np.sum(predicted_assigned)\n",
    "    fp = len(predicted_assigned) - tp\n",
    "    return tp, fp, fn"
   ]
  },
  {
   "cell_type": "code",
   "execution_count": null,
   "id": "e401187b",
   "metadata": {},
   "outputs": [],
   "source": [
    "# with this seed and max_dist it seems to be correct \n",
    "# to validate compare indices of output of automatig_assignment marked as True to below  set indices\n",
    "np.random.seed(42)\n",
    "max_dist = 10\n",
    "gtruth = np.random.rand(7,2)*2048\n",
    "predicted = np.random.rand(8,2)*2048\n",
    "predicted[[2,3,6,7,0]] = gtruth[[4,2,5,0,1]]\n",
    "calc_eval_measures(gtruth, predicted, max_dist)"
   ]
  }
 ],
 "metadata": {
  "kernelspec": {
   "display_name": "karaboNew",
   "language": "python",
   "name": "karabonew"
  },
  "language_info": {
   "codemirror_mode": {
    "name": "ipython",
    "version": 3
   },
   "file_extension": ".py",
   "mimetype": "text/x-python",
   "name": "python",
   "nbconvert_exporter": "python",
   "pygments_lexer": "ipython3",
   "version": "3.8.12"
  }
 },
 "nbformat": 4,
 "nbformat_minor": 5
}

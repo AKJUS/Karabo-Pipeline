{
 "cells": [
  {
   "cell_type": "markdown",
   "id": "7269719f",
   "metadata": {},
   "source": [
    "# Source Detection\n",
    "\n",
    "This notebook shows an end to end radio interferometry pipeline from the sky to final image using the Karabo pipeline. In addition, we show you how to get the pixel coordinates of the point sources of the produced image. The simulation of the sky, telescope and observation are based on [OSKAR](https://ska-telescope.gitlab.io/sim/oskar/), the imaging on [RASCIL](https://ska-telescope.gitlab.io/external/rascil/index.html).\n",
    "\n",
    "For this example we use the GLEAM survey [GLEAM EGC catalog version 2](https://vizier.cds.unistra.fr/viz-bin/VizieR-3), which can be downloaded from the [VizieR](https://cdsarc.unistra.fr/viz-bin/cat/VIII/100) service. To download the full survey, you have to change **preferences/max** to unlimited. The download here was done using the **FITS (binary) Table** option which can be selected in the dropdown menu below. The GLEAM survey was created using the Murchison Widefield Array (MWA), the low-frequency Square Kilometre Array (SKA1 LOW) precursor located in western Australia. The catalogue covers 24,402 square degrees, over declinations south of +30° and galactic latitudes outside 10° of the galactic plane, excluding some areas such as the Magellanic clouds. It contains 307,456 radio sources with 20 separate flux density measurements across 72-231 MHz, selected from a time- and frequency- integrated image centred at 200 MHz, with a resolution of ~=2'."
   ]
  },
  {
   "cell_type": "code",
   "execution_count": null,
   "id": "ebaf71c9-53db-4fc7-adc6-6ab0390d812d",
   "metadata": {
    "tags": []
   },
   "outputs": [],
   "source": [
    "import sys\n",
    "import oskar\n",
    "import matplotlib\n",
    "import matplotlib.pyplot as plt\n",
    "from astropy.visualization import astropy_mpl_style\n",
    "import numpy as np\n",
    "\n",
    "from astropy.utils.data import get_pkg_data_filename\n",
    "from astropy.io import fits\n",
    "from astropy import wcs"
   ]
  },
  {
   "cell_type": "markdown",
   "id": "22b3dd01",
   "metadata": {},
   "source": [
    "## Sky Catalog\n",
    "\n",
    "Of course, any catalog downloaded in any format such as .fits or .csv can be used. Since the structures of the catalogs can differ significantly, we leave the preprocessing to the format of the `SkyModel` to the user. The `SkyModel` has the following catalog format:\n",
    "\n",
    "- right_ascension:\n",
    "- declination:\n",
    "- stokes_I_flux:\n",
    "- stokes_Q_flux:\n",
    "- stokes_U_flux:\n",
    "- stokes_V_flux:\n",
    "- reference_frequency:\n",
    "- spectral_index:\n",
    "- rotation_measure:\n",
    "- major_axis_FWHM:\n",
    "- minor_axis_FWHM:\n",
    "- position_angle:\n",
    "- source_id:\n",
    "\n",
    "For this example we only use right ascension (RAJ2000) and declination (DEJ2000) and the Stokes I peak flux intensity at 76 MHz (Fp076). There are some sources which have no flux values in the corresponding frequency band. These must be removed first."
   ]
  },
  {
   "cell_type": "code",
   "execution_count": null,
   "id": "c9570626",
   "metadata": {},
   "outputs": [],
   "source": [
    "import pandas as pd\n",
    "\n",
    "df_racs = pd.read_csv('AS110_Derived_Catalogue_racs_dr1_gaussians_galacticregion_v2021_08_v01_4550.csv')\n",
    "df_racs.head()"
   ]
  },
  {
   "cell_type": "code",
   "execution_count": null,
   "id": "bbaf3082",
   "metadata": {},
   "outputs": [],
   "source": [
    "df_racs.columns"
   ]
  },
  {
   "cell_type": "code",
   "execution_count": null,
   "id": "ac3caaa5",
   "metadata": {},
   "outputs": [],
   "source": [
    "from datetime import timedelta, datetime\n",
    "import sys\n",
    "sys.path.insert(1, '/home/lukas/i4ds/ska/KaraboPipeline')\n",
    "from karabo.simulation.sky_model import *\n",
    "from karabo.simulation.observation import *\n",
    "from karabo.simulation.utils import *\n",
    "from karabo.simulation.telescope import *\n",
    "from karabo.simulation.observation import *\n",
    "from karabo.simulation.interferometer import *"
   ]
  },
  {
   "cell_type": "code",
   "execution_count": null,
   "id": "d00eba1e",
   "metadata": {},
   "outputs": [],
   "source": [
    "gleam = SkyModel.get_fits_catalog('./GLEAM_EGC.fits')\n",
    "df_gleam = gleam.to_pandas()\n",
    "df_gleam.head()"
   ]
  },
  {
   "cell_type": "code",
   "execution_count": null,
   "id": "4c69f6b1",
   "metadata": {},
   "outputs": [],
   "source": [
    "ref_freq = 76e6\n",
    "start_frequency_hz = 76e6\n",
    "df_gleam = df_gleam[~df_gleam['Fp076'].isna()]\n",
    "ra, dec, fp = df_gleam['RAJ2000'], df_gleam['DEJ2000'], df_gleam['Fp076']\n",
    "sky_array = np.column_stack((ra, dec, fp, np.zeros(ra.shape[0]), np.zeros(ra.shape[0]), \n",
    "                             np.zeros(ra.shape[0]), [ref_freq]*ra.shape[0])).astype('float32')\n",
    "sky = SkyModel(sky_array)\n",
    "sky[:,-1] = df_gleam['GLEAM']\n",
    "sky.num_sources"
   ]
  },
  {
   "cell_type": "markdown",
   "id": "92912e06-0ed9-45b8-964d-dfa42c324897",
   "metadata": {},
   "source": [
    "Before further steps are taken, the phase center of the telescope must be defined."
   ]
  },
  {
   "cell_type": "code",
   "execution_count": null,
   "id": "d783261a-728b-4f5b-9121-a62448a7b28e",
   "metadata": {},
   "outputs": [],
   "source": [
    "ra0 = 250\n",
    "dec0 = -80\n",
    "phase_center = [ra0,dec0]"
   ]
  },
  {
   "cell_type": "code",
   "execution_count": null,
   "id": "6abab2c0",
   "metadata": {},
   "outputs": [],
   "source": [
    "def plot_sky(sky, phase_center):\n",
    "    ra0, dec0 = phase_center[0], phase_center[1]\n",
    "    data = sky[:,0:3]\n",
    "    ra = np.radians(data[:, 0] - ra0)\n",
    "    dec = np.radians(data[:, 1])\n",
    "    flux = data[:, 2]\n",
    "    log_flux = np.log10(flux) # doesn't work as intended yet because of log of negative values\n",
    "    x = np.cos(dec) * np.sin(ra)\n",
    "    y = np.cos(np.radians(dec0)) * np.sin(dec) - \\\n",
    "                np.sin(np.radians(dec0)) * np.cos(dec) * np.cos(ra)\n",
    "    sc = plt.scatter(x, y, s=.5, c=log_flux, cmap='plasma',\n",
    "                vmin=np.min(log_flux), vmax=np.max(log_flux))\n",
    "    plt.axis('equal')\n",
    "    plt.xlabel('x direction cosine')\n",
    "    plt.ylabel('y direction cosine')\n",
    "    plt.colorbar(sc, label='Log10(Stokes I flux [Jy])')\n",
    "    plt.show()\n",
    "    \n",
    "plot_sky(sky, phase_center)"
   ]
  },
  {
   "cell_type": "markdown",
   "id": "aee6bfe1-120b-4c52-bcb8-5fef9c3bc12d",
   "metadata": {},
   "source": [
    "Now that we have determined the phase center we can take a closer look at how the point sources are distributed around the center. For this we use a coordinate 2d image projection with the phase center as the origin using the the world coordinate system ([wcs](https://docs.astropy.org/en/stable/wcs/index.html)) of astropy. Specific information about the wcs parameters can be found [here](https://docs.astropy.org/en/stable/api/astropy.wcs.Wcsprm.html). For this illustration, we do not take into account the flux intensity, so that all sources are clearly visible."
   ]
  },
  {
   "cell_type": "code",
   "execution_count": null,
   "id": "0aad0271",
   "metadata": {
    "scrolled": true
   },
   "outputs": [],
   "source": [
    "sky.explore_sky(phase_center=phase_center, figsize=(8,6))"
   ]
  },
  {
   "cell_type": "markdown",
   "id": "1cc92920-8186-4ea5-bf67-2f2cb50d2d47",
   "metadata": {},
   "source": [
    "Now, to have only a partition of the sky, we can use the `filter_by_radius`, which filters from the phase center with an inner and outer radius in degrees. Oskar also provides the function `filter_by_flux` to filter by Stokes-I flux. For more details we refer to the Oskar [documentation](https://fdulwich.github.io/oskarpy-doc/sky.html)."
   ]
  },
  {
   "cell_type": "code",
   "execution_count": null,
   "id": "1febb6bc",
   "metadata": {
    "tags": []
   },
   "outputs": [],
   "source": [
    "# first filter sky by inner and outer radius in degrees from the phase center\n",
    "sky.filter_by_radius(0, .55, phase_center[0], phase_center[1])\n",
    "sky.num_sources"
   ]
  },
  {
   "cell_type": "markdown",
   "id": "f9223e38-3522-4cf6-986c-8b84ab97aa70",
   "metadata": {},
   "source": [
    "Now let's look at the filtered sources."
   ]
  },
  {
   "cell_type": "code",
   "execution_count": null,
   "id": "e6e7faab",
   "metadata": {},
   "outputs": [],
   "source": [
    "sky.explore_sky(phase_center=phase_center, figsize=(10,8), s=80,\n",
    "                xlim=(-.55,.55), ylim=(-.55,.55), with_labels=True)"
   ]
  },
  {
   "cell_type": "markdown",
   "id": "d15a1b55",
   "metadata": {},
   "source": [
    "### Telescope Module\n",
    "\n",
    "Various observation parameters and meta information `params` must be passed to the telescope module `oskar.Interferometer` of OSKAR as `oskar.SettingsTree`."
   ]
  },
  {
   "cell_type": "code",
   "execution_count": null,
   "id": "5896aa6b",
   "metadata": {},
   "outputs": [],
   "source": [
    "telescope = read_OSKAR_tm_file('../data/telescope.tm')"
   ]
  },
  {
   "cell_type": "code",
   "execution_count": null,
   "id": "62ad2238",
   "metadata": {},
   "outputs": [],
   "source": [
    "observation = Observation(start_frequency_hz=start_frequency_hz, start_date_and_time=datetime(2000, 1, 1, 12, 0),\n",
    "                          length=timedelta(hours=12), number_of_channels=16, frequency_increment_hz=20e6,\n",
    "                          phase_centre_ra_deg=ra0, phase_centre_dec_deg=dec0, number_of_time_steps=24)"
   ]
  },
  {
   "cell_type": "code",
   "execution_count": null,
   "id": "ee7c679a",
   "metadata": {},
   "outputs": [],
   "source": [
    "interferometer = InterferometerSimulation(ms_path='./visibilities_gleam.ms', channel_bandwidth_hz=1e6,\n",
    "                                          time_average_sec=10)"
   ]
  },
  {
   "cell_type": "code",
   "execution_count": null,
   "id": "b2526523",
   "metadata": {},
   "outputs": [],
   "source": [
    "interferometer.run_simulation(telescope, sky, observation)"
   ]
  },
  {
   "cell_type": "code",
   "execution_count": null,
   "id": "3b51c796",
   "metadata": {},
   "outputs": [],
   "source": [
    "#os_sky = sky.get_OSKAR_sky()\n",
    "\n",
    "# Basic settings. (Note that the sky model is set up later.)\n",
    "#params = {\n",
    "#    \"simulator\": {\n",
    "#        \"use_gpus\": \"False\"\n",
    "#    },\n",
    "#    \"observation\" : {\n",
    "#        #\"num_channels\": 64,\n",
    "#        \"num_channels\": \"16\",\n",
    "#        \"start_frequency_hz\": str(start_frequency_hz),\n",
    "#        \"frequency_inc_hz\": \"20e6\",\n",
    "#        \"phase_centre_ra_deg\": str(phase_center[0]),\n",
    "#        \"phase_centre_dec_deg\": str(phase_center[1]),\n",
    "#        \"num_time_steps\": \"24\",\n",
    "#        \"start_time_utc\": \"01-01-2000 12:00:00.000\",\n",
    "#        \"length\": \"12:00:00.000\"\n",
    "#    },\n",
    "#    \"telescope\": {\n",
    "#        \"input_directory\": \"../data/telescope.tm\"\n",
    "#    },\n",
    "#    \"interferometer\": {\n",
    "#        \"ms_filename\": \"visibilities_gleam.ms\",\n",
    "#        \"channel_bandwidth_hz\": str(1e6),\n",
    "#        \"time_average_sec\": \"10\"\n",
    "#    }\n",
    "#}\n",
    "#settings = oskar.SettingsTree(\"oskar_sim_interferometer\")\n",
    "#settings.from_dict(params)\n",
    "\n",
    "#precision = \"single\"\n",
    "#if precision == \"single\":\n",
    "#    settings[\"simulator/double_precision\"] = \"False\"\n",
    "#    settings[\"simulator/double_precision\"] = \"True\"\n",
    "\n",
    "# Set the sky model and run the simulation.\n",
    "#sim = oskar.Interferometer(settings=settings)\n",
    "#sim.set_sky_model(os_sky)\n",
    "#sim.run()"
   ]
  },
  {
   "cell_type": "markdown",
   "id": "1868693f",
   "metadata": {},
   "source": [
    "### Observation Simulation\n",
    "\n",
    "Now the sky module must be passed to the interferometer and the simulation of the observation must be started to generate the measurement set."
   ]
  },
  {
   "cell_type": "code",
   "execution_count": null,
   "id": "59b6d11e",
   "metadata": {
    "tags": []
   },
   "outputs": [],
   "source": []
  },
  {
   "cell_type": "markdown",
   "id": "b9e0bd1b",
   "metadata": {},
   "source": [
    "## Processing\n",
    "\n",
    "After the observation is made with the telescope, a calibration of the measured data must be performed, followed by the reconstruction of the image.\n",
    "\n",
    "### Calibration after Observation\n",
    "\n",
    "toDo"
   ]
  },
  {
   "cell_type": "markdown",
   "id": "5a1ca8bf",
   "metadata": {},
   "source": [
    "### Imaging\n",
    "\n",
    "Start an mmclean algorithm with the visibilites.ms as an input to deconvolve. \n",
    "To use dask cluster where you can see the progress, first create a dask cluster in the dask-extension on the left. \n",
    "Then copy the scheduler adress into the variable below. It might be correct already.\n",
    "\n",
    "If you don't do this, remove the --dask_scheduler option from the options in the start_imager call.\n",
    "Then RASCIL starts its own scheduler, you will however not be able to see the dashbaord, as the port is probably not forwarded by docker."
   ]
  },
  {
   "cell_type": "code",
   "execution_count": null,
   "id": "71820804-3b7a-47be-ac9e-c4058ea50436",
   "metadata": {
    "tags": []
   },
   "outputs": [],
   "source": [
    "#from rascil.apps import rascil_imager\n",
    "#from rascil.processing_components.util.performance import (\n",
    "#    performance_store_dict,\n",
    "#    performance_environment,\n",
    "#)\n",
    "    \n",
    "#def start_imager(rawargs):\n",
    "#    parser = rascil_imager.cli_parser()\n",
    "#    args = parser.parse_args(rawargs)\n",
    "#    performance_environment(args.performance_file, mode=\"w\")\n",
    "#    performance_store_dict(args.performance_file, \"cli_args\", vars(args), mode=\"a\")\n",
    "#    image_name = rascil_imager.imager(args)\n",
    "\n",
    "#start_imager(\n",
    "#    [\n",
    "#        '--ingest_msname','visibilities_gleam.ms',\n",
    "#        '--ingest_dd', '0', \n",
    "#        '--ingest_vis_nchan', '16',\n",
    "#        '--ingest_chan_per_blockvis', '1' ,\n",
    "#        '--ingest_average_blockvis', 'True',\n",
    "#        '--imaging_npixel', '2048', \n",
    "#        '--imaging_cellsize', '3.878509448876288e-05',\n",
    "#        '--imaging_weighting', 'robust',\n",
    "#        '--imaging_robustness', '-0.5',\n",
    "#        '--clean_nmajor', '2' ,\n",
    "#        '--clean_algorithm', 'mmclean',\n",
    "#        '--clean_scales', '0', '6', '10', '30', '60',\n",
    "#        '--clean_fractional_threshold', '0.3',\n",
    "#        '--clean_threshold', '0.12e-3',\n",
    "#        '--clean_nmoment' ,'5',\n",
    "#        '--clean_psf_support', '640',\n",
    "#        '--clean_restored_output', 'integrated'\n",
    "#    ])"
   ]
  },
  {
   "cell_type": "code",
   "execution_count": null,
   "id": "34d8c791",
   "metadata": {},
   "outputs": [],
   "source": [
    "from karabo.simulation.imager import *\n",
    "\n",
    "imager = Imager(ingest_msname='./visibilities_gleam.ms',\n",
    "                ingest_dd=[0],\n",
    "                ingest_vis_nchan=16,\n",
    "                ingest_chan_per_blockvis=1,\n",
    "                ingest_average_blockvis=True,\n",
    "                imaging_npixel=2048,\n",
    "                imaging_cellsize=3.878509448876288e-05,\n",
    "                imaging_weighting='robust',\n",
    "                imaging_robustness=-.5,\n",
    "                clean_nmajor=2,\n",
    "                clean_algorithm='mmclean',\n",
    "                clean_scales=[0,6,10,30,60],\n",
    "                clean_fractional_threshold=.3,\n",
    "                clean_threshold=.12e-3,\n",
    "                clean_nmoment=5,\n",
    "                clean_psf_support=640,\n",
    "                clean_restored_output='integrated')\n",
    "\n",
    "imager.imaging_rascil()"
   ]
  },
  {
   "cell_type": "markdown",
   "id": "5f1a51e6",
   "metadata": {
    "tags": []
   },
   "source": [
    "## Analysis and Comparison\n",
    "\n",
    "toDo"
   ]
  },
  {
   "cell_type": "markdown",
   "id": "75194bdd-fcab-4c41-b838-f188d600399b",
   "metadata": {
    "tags": []
   },
   "source": [
    "Now we have the image of the pipeline and the corresponding pixel coordinates as ground truth. Important are the number of set pixels and the cellsize, from which the coordinates are calculated."
   ]
  },
  {
   "cell_type": "code",
   "execution_count": null,
   "id": "2d2086fa-f58a-416f-a587-229b852ebb47",
   "metadata": {},
   "outputs": [],
   "source": [
    "from karabo.simulation.imager import *\n",
    "\n",
    "px, py, sky_idxs = Imager.get_pixel_coord(imaging_cellsize=3.878509448876288e-05, imaging_npixel=2048,\n",
    "                                          sky=sky, filter_outlier=True)\n",
    "fig, ax = plt.subplots(figsize=(8,8))\n",
    "ax.scatter(px, py)\n",
    "plt.xlim((0,2048))\n",
    "plt.ylim((0,2048))\n",
    "\n",
    "for i, txt in enumerate(sky[sky_idxs,-1]):\n",
    "    #ax.annotate(txt, (px[i], py[i]))\n",
    "    pass\n",
    "plt.show()"
   ]
  },
  {
   "cell_type": "code",
   "execution_count": null,
   "id": "086f540e",
   "metadata": {},
   "outputs": [],
   "source": [
    "pd.DataFrame({'sources':sky[sky_idxs,-1],'px':px,'py':py})"
   ]
  }
 ],
 "metadata": {
  "interpreter": {
   "hash": "a424f534593172213fc036407833d41a2357dbed8b39ef293519ab55d7a4ebc3"
  },
  "kernelspec": {
   "display_name": "karabo",
   "language": "python",
   "name": "karabo"
  },
  "language_info": {
   "codemirror_mode": {
    "name": "ipython",
    "version": 3
   },
   "file_extension": ".py",
   "mimetype": "text/x-python",
   "name": "python",
   "nbconvert_exporter": "python",
   "pygments_lexer": "ipython3",
   "version": "3.7.11"
  }
 },
 "nbformat": 4,
 "nbformat_minor": 5
}

{
 "cells": [
  {
   "cell_type": "markdown",
   "id": "7269719f",
   "metadata": {
    "pycharm": {
     "name": "#%% md\n"
    }
   },
   "source": [
    "# Source Detection"
   ]
  },
  {
   "cell_type": "code",
   "execution_count": null,
   "id": "e2b6b3d5",
   "metadata": {},
   "outputs": [],
   "source": [
    "import sys\n",
    "sys.path.insert(0, '/home/lukas/i4ds/ska/Karabo-Pipeline')"
   ]
  },
  {
   "cell_type": "code",
   "execution_count": null,
   "id": "ebaf71c9-53db-4fc7-adc6-6ab0390d812d",
   "metadata": {
    "pycharm": {
     "name": "#%%\n"
    },
    "tags": []
   },
   "outputs": [],
   "source": [
    "from karabo.imaging import imager\n",
    "from karabo.simulation.telescope import Telescope\n",
    "from karabo.simulation.observation import Observation\n",
    "from karabo.simulation.interferometer import InterferometerSimulation\n",
    "from karabo.simulation.sky_model import SkyModel\n",
    "from karabo.sourcedetection.result import SourceDetectionResult\n",
    "from karabo.sourcedetection.evaluation import SourceDetectionEvaluation\n",
    "\n",
    "import matplotlib.pyplot as plt\n",
    "# Render plots inline\n",
    "%matplotlib inline"
   ]
  },
  {
   "cell_type": "markdown",
   "id": "22b3dd01",
   "metadata": {
    "pycharm": {
     "name": "#%% md\n"
    }
   },
   "source": [
    "## Simulation"
   ]
  },
  {
   "cell_type": "code",
   "execution_count": null,
   "id": "51f5ede7",
   "metadata": {
    "pycharm": {
     "name": "#%%\n"
    },
    "tags": []
   },
   "outputs": [],
   "source": [
    "# Get GLEAM Survey Sky\n",
    "phase_center = [250, -80]\n",
    "gleam_sky = SkyModel.get_GLEAM_Sky()\n",
    "gleam_sky.plot_sky(phase_center)"
   ]
  },
  {
   "cell_type": "markdown",
   "id": "b5fed982",
   "metadata": {
    "pycharm": {
     "name": "#%% md\n"
    }
   },
   "source": [
    "Then we filter the sky model based on radius."
   ]
  },
  {
   "cell_type": "code",
   "execution_count": null,
   "id": "1cc5ee29",
   "metadata": {
    "pycharm": {
     "name": "#%%\n"
    }
   },
   "outputs": [],
   "source": [
    "sky = gleam_sky.filter_by_radius(0, .55, phase_center[0], phase_center[1])\n",
    "sky.setup_default_wcs(phase_center=phase_center)"
   ]
  },
  {
   "cell_type": "markdown",
   "id": "e26bb5e7",
   "metadata": {
    "pycharm": {
     "name": "#%% md\n"
    }
   },
   "source": [
    "Let's have a closer look with the 2d image project explore_sky() provides."
   ]
  },
  {
   "cell_type": "code",
   "execution_count": null,
   "id": "667362a9",
   "metadata": {
    "pycharm": {
     "name": "#%%\n"
    }
   },
   "outputs": [],
   "source": [
    "sky.explore_sky(\n",
    "    phase_center=phase_center,\n",
    "    figsize=(8, 6),\n",
    "    s=80,\n",
    "    xlim=(-.55, .55),\n",
    "    ylim=(-.55, .55),\n",
    "    with_labels=True,\n",
    ")"
   ]
  },
  {
   "cell_type": "markdown",
   "id": "d15a1b55",
   "metadata": {
    "pycharm": {
     "name": "#%% md\n"
    }
   },
   "source": [
    "### Telescope Module\n",
    "\n",
    "Various observation parameters and meta information `params` must be passed to the telescope module `oskar.Interferometer` of OSKAR as `oskar.SettingsTree`."
   ]
  },
  {
   "cell_type": "code",
   "execution_count": null,
   "id": "06c2e94d-e3f1-4cb9-bfc5-5a6cf57459f9",
   "metadata": {
    "pycharm": {
     "name": "#%%\n"
    },
    "tags": []
   },
   "outputs": [],
   "source": [
    "askap_tel = Telescope.get_ASKAP_Telescope()\n",
    "askap_tel.plot_telescope()"
   ]
  },
  {
   "cell_type": "markdown",
   "id": "1868693f",
   "metadata": {
    "pycharm": {
     "name": "#%% md\n"
    }
   },
   "source": [
    "### Observation Simulation\n",
    "\n",
    "Now the sky module must be passed to the interferometer and the simulation of the observation must be started to generate the measurement set."
   ]
  },
  {
   "cell_type": "code",
   "execution_count": null,
   "id": "59b6d11e",
   "metadata": {
    "pycharm": {
     "name": "#%%\n"
    },
    "tags": []
   },
   "outputs": [],
   "source": [
    "observation_settings = Observation(\n",
    "    start_frequency_hz=100e6,\n",
    "    phase_centre_ra_deg=phase_center[0],\n",
    "    phase_centre_dec_deg=phase_center[1],\n",
    "    number_of_channels=64,\n",
    "    number_of_time_steps=24,\n",
    ")\n",
    "\n",
    "interferometer_sim = InterferometerSimulation(channel_bandwidth_hz=1e6)\n",
    "visibility_askap = interferometer_sim.run_simulation(askap_tel, sky, observation_settings)"
   ]
  },
  {
   "cell_type": "markdown",
   "id": "ea6ca9ca",
   "metadata": {
    "pycharm": {
     "name": "#%% md\n"
    }
   },
   "source": [
    "### Dirty Images\n",
    "\n",
    "We can create dirty images of visibilites and display them as shown below"
   ]
  },
  {
   "cell_type": "code",
   "execution_count": null,
   "id": "ab172888",
   "metadata": {},
   "outputs": [],
   "source": [
    "imaging_npixel = 2048\n",
    "imaging_cellsize = 3.878509448876288e-05"
   ]
  },
  {
   "cell_type": "code",
   "execution_count": null,
   "id": "71820804-3b7a-47be-ac9e-c4058ea50436",
   "metadata": {
    "pycharm": {
     "name": "#%%\n"
    },
    "tags": []
   },
   "outputs": [],
   "source": [
    "imager_askap = imager.Imager(\n",
    "    visibility_askap,\n",
    "    imaging_npixel = imaging_npixel,\n",
    "    imaging_cellsize = imaging_cellsize,\n",
    ")\n",
    "dirty = imager_askap.get_dirty_image()\n",
    "dirty.plot(title='Dirty image')"
   ]
  },
  {
   "cell_type": "markdown",
   "id": "5b18a6d5",
   "metadata": {},
   "source": [
    "### Source Detection"
   ]
  },
  {
   "cell_type": "code",
   "execution_count": null,
   "id": "ea760b39",
   "metadata": {},
   "outputs": [],
   "source": [
    "detection_result_dirty = SourceDetectionResult.detect_sources_in_dirty_image(imager_askap)"
   ]
  },
  {
   "cell_type": "code",
   "execution_count": null,
   "id": "fd70e9ba",
   "metadata": {},
   "outputs": [],
   "source": [
    "ground_truth, sky_idxs = imager.Imager.project_sky_to_image(\n",
    "    sky=sky,\n",
    "    phase_center=phase_center,\n",
    "    imaging_cellsize=imaging_cellsize,\n",
    "    imaging_npixel=imaging_npixel,\n",
    "    filter_outlier=True,\n",
    "    invert_ra=True,\n",
    ")\n",
    "ground_truth"
   ]
  },
  {
   "cell_type": "code",
   "execution_count": null,
   "id": "33c5079a",
   "metadata": {},
   "outputs": [],
   "source": [
    "fig, ax = plt.subplots(\n",
    "    figsize=(7,7),\n",
    ")\n",
    "sc = ax.scatter(ground_truth[0], ground_truth[1], s=20)\n",
    "\n",
    "# for idx, i in enumerate(range(ground_truth[0].shape[0])):\n",
    "#     ax.annotate(sky[idx,-1], (ground_truth[0][i], ground_truth[1][i]))\n",
    "\n",
    "plt.axis(\"equal\")\n",
    "plt.title('ground-truth source positions on image')\n",
    "plt.xlim((0,imaging_npixel))\n",
    "plt.ylim((0,imaging_npixel))\n",
    "plt.xlabel('pixel-count width')\n",
    "plt.ylabel('pixel-count height')\n",
    "plt.show()"
   ]
  },
  {
   "cell_type": "code",
   "execution_count": null,
   "id": "3881ebd7",
   "metadata": {},
   "outputs": [],
   "source": [
    "assignment = SourceDetectionEvaluation.automatic_assignment_of_ground_truth_and_prediction(\n",
    "    ground_truth=ground_truth.T,\n",
    "    detected=ground_truth.T,\n",
    "    max_dist=10,\n",
    "    top_k=3,\n",
    ")\n",
    "assignment"
   ]
  },
  {
   "cell_type": "code",
   "execution_count": null,
   "id": "2cfe3d7e",
   "metadata": {},
   "outputs": [],
   "source": [
    "tp, fp, fn = SourceDetectionEvaluation.calculate_evaluation_measures(assignment)\n",
    "result = SourceDetectionEvaluation(assignment, sky, detection_result_dirty, tp, fp, fn)"
   ]
  },
  {
   "cell_type": "code",
   "execution_count": null,
   "id": "c9dfffce",
   "metadata": {},
   "outputs": [],
   "source": [
    "# Create mapping plots\n",
    "mapping_dirty = SourceDetectionEvaluation.evaluate_result_with_sky_in_pixel_space(detection_result_dirty, sky, 10)\n",
    "mapping_dirty.plot()"
   ]
  },
  {
   "cell_type": "markdown",
   "id": "5a1ca8bf",
   "metadata": {
    "pycharm": {
     "name": "#%% md\n"
    }
   },
   "source": [
    "### Imaging\n",
    "Of course, we can also do source detection on cleaned (clean algorithmus by rascil) images."
   ]
  },
  {
   "cell_type": "code",
   "execution_count": null,
   "id": "5791cc3d",
   "metadata": {
    "pycharm": {
     "name": "#%%\n"
    },
    "scrolled": true
   },
   "outputs": [],
   "source": [
    "imager_askap.ingest_chan_per_blockvis = 1\n",
    "imager_askap.ingest_vis_nchan = 16\n",
    "\n",
    "# Try differnet algorithm\n",
    "# More sources\n",
    "deconvolved, restored, residual = imager_askap.imaging_rascil(\n",
    "    clean_nmajor=0,\n",
    "    clean_algorithm='mmclean',\n",
    "    clean_scales=[0, 6, 10, 30, 60],\n",
    "    clean_fractional_threshold=.3,\n",
    "    clean_threshold=.12e-3,\n",
    "    clean_nmoment=5,\n",
    "    clean_psf_support=640,\n",
    "    clean_restored_output='integrated',\n",
    ")"
   ]
  },
  {
   "cell_type": "markdown",
   "id": "5193be94",
   "metadata": {
    "pycharm": {
     "name": "#%% md\n"
    }
   },
   "source": [
    "## Analysis via Source Detection\n",
    "\n",
    "Source Detection on restored image."
   ]
  },
  {
   "cell_type": "code",
   "execution_count": null,
   "id": "e1c101f6",
   "metadata": {
    "collapsed": false,
    "pycharm": {
     "name": "#%%\n"
    }
   },
   "outputs": [],
   "source": [
    "detection_result = SourceDetectionResult.detect_sources_in_image(restored)"
   ]
  },
  {
   "cell_type": "markdown",
   "id": "6419d2b2",
   "metadata": {},
   "source": [
    "## Evaluation"
   ]
  },
  {
   "cell_type": "code",
   "execution_count": null,
   "id": "4eb81fc5",
   "metadata": {},
   "outputs": [],
   "source": [
    "# Create mapping plots\n",
    "mapping = SourceDetectionEvaluation.evaluate_result_with_sky_in_pixel_space(detection_result, sky, 10)\n",
    "mapping.plot()"
   ]
  },
  {
   "cell_type": "code",
   "execution_count": null,
   "id": "82fa391c",
   "metadata": {
    "pycharm": {
     "name": "#%%\n"
    }
   },
   "outputs": [],
   "source": [
    "# Confusion Matrix\n",
    "mapping.get_confusion_matrix()"
   ]
  },
  {
   "cell_type": "code",
   "execution_count": null,
   "id": "a411beb8",
   "metadata": {},
   "outputs": [],
   "source": [
    "mapping.plot_confusion_matrix()"
   ]
  },
  {
   "cell_type": "code",
   "execution_count": null,
   "id": "25c030dd",
   "metadata": {},
   "outputs": [],
   "source": [
    "mapping_dirty.plot_confusion_matrix()"
   ]
  },
  {
   "cell_type": "code",
   "execution_count": null,
   "id": "a9ff8243",
   "metadata": {},
   "outputs": [],
   "source": [
    "# Plot error ra and dec\n",
    "mapping.plot_error_ra_dec()"
   ]
  },
  {
   "cell_type": "code",
   "execution_count": null,
   "id": "8faaa8a5",
   "metadata": {},
   "outputs": [],
   "source": [
    "# Plot error ra and dec\n",
    "mapping_dirty.plot_error_ra_dec()"
   ]
  },
  {
   "cell_type": "code",
   "execution_count": null,
   "id": "47eb3bef",
   "metadata": {},
   "outputs": [],
   "source": [
    "# Plot error flux\n",
    "mapping.plot_quiver_positions()"
   ]
  },
  {
   "cell_type": "code",
   "execution_count": null,
   "id": "3062b506",
   "metadata": {},
   "outputs": [],
   "source": [
    "# Plot error flux\n",
    "mapping_dirty.plot_quiver_positions()"
   ]
  },
  {
   "cell_type": "code",
   "execution_count": null,
   "id": "745caaef",
   "metadata": {},
   "outputs": [],
   "source": [
    "# Plot error ra and dec\n",
    "mapping.plot_flux_ratio_to_distance()"
   ]
  },
  {
   "cell_type": "code",
   "execution_count": null,
   "id": "8015f0ba",
   "metadata": {},
   "outputs": [],
   "source": [
    "# Plot error ra and dec\n",
    "mapping.plot_flux_histogram()"
   ]
  },
  {
   "cell_type": "code",
   "execution_count": null,
   "id": "95031e90",
   "metadata": {},
   "outputs": [],
   "source": [
    "# Plot error ra and dec\n",
    "mapping_dirty.plot_flux_histogram()"
   ]
  },
  {
   "cell_type": "code",
   "execution_count": null,
   "id": "d4fa142d",
   "metadata": {},
   "outputs": [],
   "source": [
    "# Plot error ra and dec\n",
    "mapping.plot_flux_ratio_to_ra_dec()"
   ]
  },
  {
   "cell_type": "code",
   "execution_count": null,
   "id": "c3ae5977",
   "metadata": {},
   "outputs": [],
   "source": [
    "# Plot error ra and dec\n",
    "mapping_dirty.plot_flux_ratio_to_ra_dec()"
   ]
  },
  {
   "cell_type": "code",
   "execution_count": null,
   "id": "704a90a3",
   "metadata": {},
   "outputs": [],
   "source": []
  }
 ],
 "metadata": {
  "kernelspec": {
   "display_name": "karabo-dev-env",
   "language": "python",
   "name": "karabo-dev-env"
  },
  "language_info": {
   "codemirror_mode": {
    "name": "ipython",
    "version": 3
   },
   "file_extension": ".py",
   "mimetype": "text/x-python",
   "name": "python",
   "nbconvert_exporter": "python",
   "pygments_lexer": "ipython3",
   "version": "3.9.15"
  },
  "vscode": {
   "interpreter": {
    "hash": "0568a5d6bb4a030964d6f06c31a70413b668286eef302bb5a1c50fa8886c3e07"
   }
  }
 },
 "nbformat": 4,
 "nbformat_minor": 5
}

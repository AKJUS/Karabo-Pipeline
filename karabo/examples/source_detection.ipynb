{
 "cells": [
  {
   "cell_type": "markdown",
   "id": "7269719f",
   "metadata": {},
   "source": [
    "# Sample Pipeline\n",
    "\n",
    "This notebook shows an end to end radio interferometry pipeline from the simulation of the sky to the final image. In addition, it produces a catalogue of the sources in the image pixel domain. This is just an example notebook and thus the functions are not well structured and capsulated yet.\n",
    "\n",
    "The pipeline consists of three modules:\n",
    "\n",
    "- Simulation\n",
    "    - Sky module: OSKAR\n",
    "    - Telescope module incl. calibration: OSKAR\n",
    "- Processing\n",
    "    - Calibration after observation: RASCIL\n",
    "    - Deconvolution: RASCIL\n",
    "- Analysis & comparison\n",
    "    - Quantitative and qualitative analysis of algorithms"
   ]
  },
  {
   "cell_type": "code",
   "execution_count": 1,
   "id": "ebaf71c9-53db-4fc7-adc6-6ab0390d812d",
   "metadata": {
    "tags": []
   },
   "outputs": [],
   "source": [
    "import sys\n",
    "import oskar\n",
    "import matplotlib\n",
    "import matplotlib.pyplot as plt\n",
    "from astropy.visualization import astropy_mpl_style\n",
    "import numpy as np\n",
    "\n",
    "from astropy.utils.data import get_pkg_data_filename\n",
    "from astropy.io import fits\n",
    "from astropy import wcs"
   ]
  },
  {
   "cell_type": "markdown",
   "id": "22b3dd01",
   "metadata": {},
   "source": [
    "## Simulation\n",
    "\n",
    "The sky and telescope simulation is currently provided completely by OSKAR.\n",
    "\n",
    "### Sky Module\n",
    "\n",
    "The sky module of OSKAR contains radiation sources, which are defined as array and can be passed to `oskar.Sky.from_array`."
   ]
  },
  {
   "cell_type": "code",
   "execution_count": 3,
   "id": "c9570626",
   "metadata": {},
   "outputs": [
    {
     "data": {
      "text/html": [
       "<div>\n",
       "<style scoped>\n",
       "    .dataframe tbody tr th:only-of-type {\n",
       "        vertical-align: middle;\n",
       "    }\n",
       "\n",
       "    .dataframe tbody tr th {\n",
       "        vertical-align: top;\n",
       "    }\n",
       "\n",
       "    .dataframe thead th {\n",
       "        text-align: right;\n",
       "    }\n",
       "</style>\n",
       "<table border=\"1\" class=\"dataframe\">\n",
       "  <thead>\n",
       "    <tr style=\"text-align: right;\">\n",
       "      <th></th>\n",
       "      <th>id</th>\n",
       "      <th>catalogue_id</th>\n",
       "      <th>gaussian_id</th>\n",
       "      <th>source_id</th>\n",
       "      <th>tile_id</th>\n",
       "      <th>sbid</th>\n",
       "      <th>obs_start_time</th>\n",
       "      <th>n_gaus</th>\n",
       "      <th>ra</th>\n",
       "      <th>dec</th>\n",
       "      <th>...</th>\n",
       "      <th>e_dc_maj</th>\n",
       "      <th>dc_min</th>\n",
       "      <th>e_dc_min</th>\n",
       "      <th>dc_pa</th>\n",
       "      <th>e_dc_pa</th>\n",
       "      <th>s_code</th>\n",
       "      <th>separation_tile_centre</th>\n",
       "      <th>noise</th>\n",
       "      <th>gal_lon</th>\n",
       "      <th>gal_lat</th>\n",
       "    </tr>\n",
       "  </thead>\n",
       "  <tbody>\n",
       "    <tr>\n",
       "      <th>0</th>\n",
       "      <td>1</td>\n",
       "      <td>4550</td>\n",
       "      <td>RACS_0526+25A_1201</td>\n",
       "      <td>RACS_0526+25A_1011</td>\n",
       "      <td>RACS_0526+25A</td>\n",
       "      <td>13722</td>\n",
       "      <td>58971.25398</td>\n",
       "      <td>1</td>\n",
       "      <td>84.893217</td>\n",
       "      <td>24.416944</td>\n",
       "      <td>...</td>\n",
       "      <td>6.63</td>\n",
       "      <td>12.29</td>\n",
       "      <td>4.95</td>\n",
       "      <td>101.15</td>\n",
       "      <td>53.81</td>\n",
       "      <td>S</td>\n",
       "      <td>3.1529</td>\n",
       "      <td>0.471</td>\n",
       "      <td>183.136184</td>\n",
       "      <td>-3.524673</td>\n",
       "    </tr>\n",
       "    <tr>\n",
       "      <th>1</th>\n",
       "      <td>2</td>\n",
       "      <td>4550</td>\n",
       "      <td>RACS_0526+25A_1206</td>\n",
       "      <td>RACS_0526+25A_1016</td>\n",
       "      <td>RACS_0526+25A</td>\n",
       "      <td>13722</td>\n",
       "      <td>58971.25398</td>\n",
       "      <td>1</td>\n",
       "      <td>84.869190</td>\n",
       "      <td>23.933755</td>\n",
       "      <td>...</td>\n",
       "      <td>6.26</td>\n",
       "      <td>0.00</td>\n",
       "      <td>3.92</td>\n",
       "      <td>0.00</td>\n",
       "      <td>35.34</td>\n",
       "      <td>S</td>\n",
       "      <td>3.2804</td>\n",
       "      <td>0.408</td>\n",
       "      <td>183.535265</td>\n",
       "      <td>-3.799150</td>\n",
       "    </tr>\n",
       "    <tr>\n",
       "      <th>2</th>\n",
       "      <td>3</td>\n",
       "      <td>4550</td>\n",
       "      <td>RACS_0526+25A_1212</td>\n",
       "      <td>RACS_0526+25A_1020</td>\n",
       "      <td>RACS_0526+25A</td>\n",
       "      <td>13722</td>\n",
       "      <td>58971.25398</td>\n",
       "      <td>1</td>\n",
       "      <td>84.900889</td>\n",
       "      <td>25.511269</td>\n",
       "      <td>...</td>\n",
       "      <td>1.84</td>\n",
       "      <td>2.68</td>\n",
       "      <td>1.80</td>\n",
       "      <td>80.56</td>\n",
       "      <td>1.46</td>\n",
       "      <td>S</td>\n",
       "      <td>3.0898</td>\n",
       "      <td>0.449</td>\n",
       "      <td>182.210449</td>\n",
       "      <td>-2.938719</td>\n",
       "    </tr>\n",
       "    <tr>\n",
       "      <th>3</th>\n",
       "      <td>4</td>\n",
       "      <td>4550</td>\n",
       "      <td>RACS_0526+25A_1213</td>\n",
       "      <td>RACS_0526+25A_1021</td>\n",
       "      <td>RACS_0526+25A</td>\n",
       "      <td>13722</td>\n",
       "      <td>58971.25398</td>\n",
       "      <td>1</td>\n",
       "      <td>84.878595</td>\n",
       "      <td>24.759065</td>\n",
       "      <td>...</td>\n",
       "      <td>1.80</td>\n",
       "      <td>0.00</td>\n",
       "      <td>1.71</td>\n",
       "      <td>0.00</td>\n",
       "      <td>129.97</td>\n",
       "      <td>S</td>\n",
       "      <td>3.0767</td>\n",
       "      <td>1.340</td>\n",
       "      <td>182.838456</td>\n",
       "      <td>-3.354672</td>\n",
       "    </tr>\n",
       "    <tr>\n",
       "      <th>4</th>\n",
       "      <td>5</td>\n",
       "      <td>4550</td>\n",
       "      <td>RACS_0526+25A_1214</td>\n",
       "      <td>RACS_0526+25A_1022</td>\n",
       "      <td>RACS_0526+25A</td>\n",
       "      <td>13722</td>\n",
       "      <td>58971.25398</td>\n",
       "      <td>1</td>\n",
       "      <td>84.897391</td>\n",
       "      <td>25.460482</td>\n",
       "      <td>...</td>\n",
       "      <td>5.57</td>\n",
       "      <td>8.76</td>\n",
       "      <td>4.20</td>\n",
       "      <td>103.73</td>\n",
       "      <td>50.90</td>\n",
       "      <td>S</td>\n",
       "      <td>3.0814</td>\n",
       "      <td>0.404</td>\n",
       "      <td>182.251884</td>\n",
       "      <td>-2.968334</td>\n",
       "    </tr>\n",
       "  </tbody>\n",
       "</table>\n",
       "<p>5 rows × 37 columns</p>\n",
       "</div>"
      ],
      "text/plain": [
       "   id  catalogue_id         gaussian_id           source_id        tile_id  \\\n",
       "0   1          4550  RACS_0526+25A_1201  RACS_0526+25A_1011  RACS_0526+25A   \n",
       "1   2          4550  RACS_0526+25A_1206  RACS_0526+25A_1016  RACS_0526+25A   \n",
       "2   3          4550  RACS_0526+25A_1212  RACS_0526+25A_1020  RACS_0526+25A   \n",
       "3   4          4550  RACS_0526+25A_1213  RACS_0526+25A_1021  RACS_0526+25A   \n",
       "4   5          4550  RACS_0526+25A_1214  RACS_0526+25A_1022  RACS_0526+25A   \n",
       "\n",
       "    sbid  obs_start_time  n_gaus         ra        dec  ...  e_dc_maj  dc_min  \\\n",
       "0  13722     58971.25398       1  84.893217  24.416944  ...      6.63   12.29   \n",
       "1  13722     58971.25398       1  84.869190  23.933755  ...      6.26    0.00   \n",
       "2  13722     58971.25398       1  84.900889  25.511269  ...      1.84    2.68   \n",
       "3  13722     58971.25398       1  84.878595  24.759065  ...      1.80    0.00   \n",
       "4  13722     58971.25398       1  84.897391  25.460482  ...      5.57    8.76   \n",
       "\n",
       "   e_dc_min   dc_pa  e_dc_pa  s_code  separation_tile_centre  noise  \\\n",
       "0      4.95  101.15    53.81       S                  3.1529  0.471   \n",
       "1      3.92    0.00    35.34       S                  3.2804  0.408   \n",
       "2      1.80   80.56     1.46       S                  3.0898  0.449   \n",
       "3      1.71    0.00   129.97       S                  3.0767  1.340   \n",
       "4      4.20  103.73    50.90       S                  3.0814  0.404   \n",
       "\n",
       "      gal_lon   gal_lat  \n",
       "0  183.136184 -3.524673  \n",
       "1  183.535265 -3.799150  \n",
       "2  182.210449 -2.938719  \n",
       "3  182.838456 -3.354672  \n",
       "4  182.251884 -2.968334  \n",
       "\n",
       "[5 rows x 37 columns]"
      ]
     },
     "execution_count": 3,
     "metadata": {},
     "output_type": "execute_result"
    }
   ],
   "source": [
    "import pandas as pd\n",
    "\n",
    "df_racs = pd.read_csv('AS110_Derived_Catalogue_racs_dr1_gaussians_galacticregion_v2021_08_v01_4550.csv')\n",
    "df_racs.head()"
   ]
  },
  {
   "cell_type": "code",
   "execution_count": 4,
   "id": "bbaf3082",
   "metadata": {},
   "outputs": [
    {
     "data": {
      "text/plain": [
       "Index(['id', 'catalogue_id', 'gaussian_id', 'source_id', 'tile_id', 'sbid',\n",
       "       'obs_start_time', 'n_gaus', 'ra', 'dec', 'e_ra', 'e_dec',\n",
       "       'total_flux_gaussian', 'e_total_flux_gaussian_pybdsf',\n",
       "       'e_total_flux_gaussian', 'total_flux_source',\n",
       "       'e_total_flux_source_pybdsf', 'e_total_flux_source', 'peak_flux',\n",
       "       'e_peak_flux', 'maj', 'e_maj', 'min', 'e_min', 'pa', 'e_pa', 'dc_maj',\n",
       "       'e_dc_maj', 'dc_min', 'e_dc_min', 'dc_pa', 'e_dc_pa', 's_code',\n",
       "       'separation_tile_centre', 'noise', 'gal_lon', 'gal_lat'],\n",
       "      dtype='object')"
      ]
     },
     "execution_count": 4,
     "metadata": {},
     "output_type": "execute_result"
    }
   ],
   "source": [
    "df_racs.columns"
   ]
  },
  {
   "cell_type": "code",
   "execution_count": null,
   "id": "7c62c894",
   "metadata": {},
   "outputs": [],
   "source": []
  },
  {
   "cell_type": "markdown",
   "id": "9d2ab10c-f290-4f96-9248-14e5096f20ae",
   "metadata": {},
   "source": [
    "Instead of using completely artificial sources, an external catalog can also be used. Here we use the GLEAM survey, which can be downloaded from the [VizieR](https://cdsarc.unistra.fr/viz-bin/cat/VIII/100) service. \n",
    "\n",
    "This example is using the [GLEAM EGC catalog, version 2](https://vizier.cds.unistra.fr/viz-bin/VizieR-3). To download the full survey, you have to change **preferences/max** to unlimited. The download here was done using the **FITS (binary) Table** option which can be selected in the dropdown below.\n",
    "\n",
    "For this example we only use right ascension (RAJ2000) and declination (DEJ2000) and the Stokes I peak flux intensity at 76 MHz (Fp076). There are some sources which have no flux values in the corresponding frequency band. These must be removed first."
   ]
  },
  {
   "cell_type": "code",
   "execution_count": 5,
   "id": "ac3caaa5",
   "metadata": {},
   "outputs": [
    {
     "ename": "ImportError",
     "evalue": "libboost_python39.so.1.73.0: cannot open shared object file: No such file or directory",
     "output_type": "error",
     "traceback": [
      "\u001b[0;31m---------------------------------------------------------------------------\u001b[0m",
      "\u001b[0;31mImportError\u001b[0m                               Traceback (most recent call last)",
      "Input \u001b[0;32mIn [5]\u001b[0m, in \u001b[0;36m<cell line: 10>\u001b[0;34m()\u001b[0m\n\u001b[1;32m      8\u001b[0m \u001b[38;5;28;01mfrom\u001b[39;00m \u001b[38;5;21;01mkarabo\u001b[39;00m\u001b[38;5;21;01m.\u001b[39;00m\u001b[38;5;21;01msimulation\u001b[39;00m\u001b[38;5;21;01m.\u001b[39;00m\u001b[38;5;21;01mobservation\u001b[39;00m \u001b[38;5;28;01mimport\u001b[39;00m \u001b[38;5;241m*\u001b[39m\n\u001b[1;32m      9\u001b[0m \u001b[38;5;28;01mfrom\u001b[39;00m \u001b[38;5;21;01mkarabo\u001b[39;00m\u001b[38;5;21;01m.\u001b[39;00m\u001b[38;5;21;01msimulation\u001b[39;00m\u001b[38;5;21;01m.\u001b[39;00m\u001b[38;5;21;01minterferometer\u001b[39;00m \u001b[38;5;28;01mimport\u001b[39;00m \u001b[38;5;241m*\u001b[39m\n\u001b[0;32m---> 10\u001b[0m \u001b[38;5;28;01mfrom\u001b[39;00m \u001b[38;5;21;01mkarabo\u001b[39;00m\u001b[38;5;21;01m.\u001b[39;00m\u001b[38;5;21;01msimulation\u001b[39;00m\u001b[38;5;21;01m.\u001b[39;00m\u001b[38;5;21;01mimager\u001b[39;00m \u001b[38;5;28;01mimport\u001b[39;00m \u001b[38;5;241m*\u001b[39m\n",
      "File \u001b[0;32m~/i4ds/ska/KaraboPipeline/karabo/simulation/imager.py:5\u001b[0m, in \u001b[0;36m<module>\u001b[0;34m\u001b[0m\n\u001b[1;32m      3\u001b[0m \u001b[38;5;28;01mimport\u001b[39;00m \u001b[38;5;21;01mnumpy\u001b[39;00m \u001b[38;5;28;01mas\u001b[39;00m \u001b[38;5;21;01mnp\u001b[39;00m\n\u001b[1;32m      4\u001b[0m \u001b[38;5;28;01mfrom\u001b[39;00m \u001b[38;5;21;01mkarabo\u001b[39;00m\u001b[38;5;21;01m.\u001b[39;00m\u001b[38;5;21;01msimulation\u001b[39;00m\u001b[38;5;21;01m.\u001b[39;00m\u001b[38;5;21;01msky_model\u001b[39;00m \u001b[38;5;28;01mimport\u001b[39;00m SkyModel\n\u001b[0;32m----> 5\u001b[0m \u001b[38;5;28;01mfrom\u001b[39;00m \u001b[38;5;21;01mrascil\u001b[39;00m\u001b[38;5;21;01m.\u001b[39;00m\u001b[38;5;21;01mapps\u001b[39;00m \u001b[38;5;28;01mimport\u001b[39;00m rascil_imager\n\u001b[1;32m      6\u001b[0m \u001b[38;5;28;01mfrom\u001b[39;00m \u001b[38;5;21;01mrascil\u001b[39;00m\u001b[38;5;21;01m.\u001b[39;00m\u001b[38;5;21;01mprocessing_components\u001b[39;00m\u001b[38;5;21;01m.\u001b[39;00m\u001b[38;5;21;01mutil\u001b[39;00m\u001b[38;5;21;01m.\u001b[39;00m\u001b[38;5;21;01mperformance\u001b[39;00m \u001b[38;5;28;01mimport\u001b[39;00m (\n\u001b[1;32m      7\u001b[0m     performance_store_dict,\n\u001b[1;32m      8\u001b[0m     performance_environment,\n\u001b[1;32m      9\u001b[0m )\n\u001b[1;32m     10\u001b[0m \u001b[38;5;28;01mfrom\u001b[39;00m \u001b[38;5;21;01mtyping\u001b[39;00m \u001b[38;5;28;01mimport\u001b[39;00m List, Union, Dict, Tuple\n",
      "File \u001b[0;32m~/anaconda3/envs/karabo_env/lib/python3.9/site-packages/rascil/apps/rascil_imager.py:16\u001b[0m, in \u001b[0;36m<module>\u001b[0;34m\u001b[0m\n\u001b[1;32m     13\u001b[0m \u001b[38;5;28;01mimport\u001b[39;00m \u001b[38;5;21;01mnumpy\u001b[39;00m\n\u001b[1;32m     14\u001b[0m \u001b[38;5;28;01mimport\u001b[39;00m \u001b[38;5;21;01mxarray\u001b[39;00m\n\u001b[0;32m---> 16\u001b[0m \u001b[38;5;28;01mfrom\u001b[39;00m \u001b[38;5;21;01mrascil\u001b[39;00m\u001b[38;5;21;01m.\u001b[39;00m\u001b[38;5;21;01mapps\u001b[39;00m\u001b[38;5;21;01m.\u001b[39;00m\u001b[38;5;21;01mimaging_qa_main\u001b[39;00m \u001b[38;5;28;01mimport\u001b[39;00m read_skycomponent_from_txt, FileFormatError\n\u001b[1;32m     17\u001b[0m \u001b[38;5;28;01mfrom\u001b[39;00m \u001b[38;5;21;01mrascil\u001b[39;00m\u001b[38;5;21;01m.\u001b[39;00m\u001b[38;5;21;01mdata_models\u001b[39;00m\u001b[38;5;21;01m.\u001b[39;00m\u001b[38;5;21;01mpolarisation\u001b[39;00m \u001b[38;5;28;01mimport\u001b[39;00m convert_pol_frame\n\u001b[1;32m     19\u001b[0m matplotlib\u001b[38;5;241m.\u001b[39muse(\u001b[38;5;124m\"\u001b[39m\u001b[38;5;124mAgg\u001b[39m\u001b[38;5;124m\"\u001b[39m)\n",
      "File \u001b[0;32m~/anaconda3/envs/karabo_env/lib/python3.9/site-packages/rascil/apps/imaging_qa_main.py:18\u001b[0m, in \u001b[0;36m<module>\u001b[0;34m\u001b[0m\n\u001b[1;32m     16\u001b[0m \u001b[38;5;28;01mimport\u001b[39;00m \u001b[38;5;21;01mnumpy\u001b[39;00m \u001b[38;5;28;01mas\u001b[39;00m \u001b[38;5;21;01mnp\u001b[39;00m\n\u001b[1;32m     17\u001b[0m \u001b[38;5;28;01mimport\u001b[39;00m \u001b[38;5;21;01mpandas\u001b[39;00m \u001b[38;5;28;01mas\u001b[39;00m \u001b[38;5;21;01mpd\u001b[39;00m\n\u001b[0;32m---> 18\u001b[0m \u001b[38;5;28;01mimport\u001b[39;00m \u001b[38;5;21;01mbdsf\u001b[39;00m\n\u001b[1;32m     19\u001b[0m \u001b[38;5;28;01mimport\u001b[39;00m \u001b[38;5;21;01mastropy\u001b[39;00m\u001b[38;5;21;01m.\u001b[39;00m\u001b[38;5;21;01munits\u001b[39;00m \u001b[38;5;28;01mas\u001b[39;00m \u001b[38;5;21;01mu\u001b[39;00m\n\u001b[1;32m     20\u001b[0m \u001b[38;5;28;01mfrom\u001b[39;00m \u001b[38;5;21;01mastropy\u001b[39;00m\u001b[38;5;21;01m.\u001b[39;00m\u001b[38;5;21;01mcoordinates\u001b[39;00m \u001b[38;5;28;01mimport\u001b[39;00m SkyCoord\n",
      "File \u001b[0;32m~/anaconda3/envs/karabo_env/lib/python3.9/site-packages/bdsf/__init__.py:21\u001b[0m, in \u001b[0;36m<module>\u001b[0;34m\u001b[0m\n\u001b[1;32m     19\u001b[0m     has_pl \u001b[38;5;241m=\u001b[39m \u001b[38;5;28;01mFalse\u001b[39;00m\n\u001b[1;32m     20\u001b[0m \u001b[38;5;28;01mfrom\u001b[39;00m \u001b[38;5;21;01m.\u001b[39;00m\u001b[38;5;21;01mreadimage\u001b[39;00m \u001b[38;5;28;01mimport\u001b[39;00m Op_readimage\n\u001b[0;32m---> 21\u001b[0m \u001b[38;5;28;01mfrom\u001b[39;00m \u001b[38;5;21;01m.\u001b[39;00m\u001b[38;5;21;01mcollapse\u001b[39;00m \u001b[38;5;28;01mimport\u001b[39;00m Op_collapse\n\u001b[1;32m     22\u001b[0m \u001b[38;5;28;01mfrom\u001b[39;00m \u001b[38;5;21;01m.\u001b[39;00m\u001b[38;5;21;01mpreprocess\u001b[39;00m \u001b[38;5;28;01mimport\u001b[39;00m Op_preprocess\n\u001b[1;32m     23\u001b[0m \u001b[38;5;28;01mfrom\u001b[39;00m \u001b[38;5;21;01m.\u001b[39;00m\u001b[38;5;21;01mrmsimage\u001b[39;00m \u001b[38;5;28;01mimport\u001b[39;00m Op_rmsimage\n",
      "File \u001b[0;32m~/anaconda3/envs/karabo_env/lib/python3.9/site-packages/bdsf/collapse.py:11\u001b[0m, in \u001b[0;36m<module>\u001b[0;34m\u001b[0m\n\u001b[1;32m      9\u001b[0m \u001b[38;5;28;01mimport\u001b[39;00m \u001b[38;5;21;01mnumpy\u001b[39;00m \u001b[38;5;28;01mas\u001b[39;00m \u001b[38;5;21;01mN\u001b[39;00m\n\u001b[1;32m     10\u001b[0m \u001b[38;5;28;01mfrom\u001b[39;00m \u001b[38;5;21;01m.\u001b[39;00m\u001b[38;5;21;01mimage\u001b[39;00m \u001b[38;5;28;01mimport\u001b[39;00m \u001b[38;5;241m*\u001b[39m\n\u001b[0;32m---> 11\u001b[0m \u001b[38;5;28;01mfrom\u001b[39;00m \u001b[38;5;21;01m.\u001b[39;00m \u001b[38;5;28;01mimport\u001b[39;00m _cbdsm\n\u001b[1;32m     12\u001b[0m \u001b[38;5;66;03m#_cbdsm.init_numpy()\u001b[39;00m\n\u001b[1;32m     13\u001b[0m \u001b[38;5;28;01mfrom\u001b[39;00m \u001b[38;5;21;01m.\u001b[39;00m \u001b[38;5;28;01mimport\u001b[39;00m mylogger\n",
      "\u001b[0;31mImportError\u001b[0m: libboost_python39.so.1.73.0: cannot open shared object file: No such file or directory"
     ]
    }
   ],
   "source": [
    "from datetime import timedelta, datetime\n",
    "import sys\n",
    "sys.path.insert(1, '/home/lukas/i4ds/ska/KaraboPipeline')\n",
    "from karabo.simulation.sky_model import *\n",
    "from karabo.simulation.observation import *\n",
    "from karabo.simulation.utils import *\n",
    "from karabo.simulation.telescope import *\n",
    "from karabo.simulation.observation import *\n",
    "from karabo.simulation.interferometer import *\n",
    "from karabo.simulation.imager import *"
   ]
  },
  {
   "cell_type": "code",
   "execution_count": null,
   "id": "d00eba1e",
   "metadata": {},
   "outputs": [],
   "source": [
    "gleam = SkyModel.get_fits_catalog('./GLEAM_EGC.fits')\n",
    "df_gleam = gleam.to_pandas()\n",
    "df_gleam.head()"
   ]
  },
  {
   "cell_type": "code",
   "execution_count": null,
   "id": "4c69f6b1",
   "metadata": {},
   "outputs": [],
   "source": [
    "ref_freq = 76e6\n",
    "start_frequency_hz = 76e6\n",
    "df_gleam = df_gleam[~df_gleam['Fp076'].isna()]\n",
    "ra, dec, fp = df_gleam['RAJ2000'], df_gleam['DEJ2000'], df_gleam['Fp076']\n",
    "sky_array = np.column_stack((ra, dec, fp, np.zeros(ra.shape[0]), np.zeros(ra.shape[0]), \n",
    "                             np.zeros(ra.shape[0]), [ref_freq]*ra.shape[0])).astype('float32')\n",
    "sky = SkyModel(sky_array)\n",
    "sky[:,-1] = df_gleam['GLEAM']\n",
    "sky.num_sources"
   ]
  },
  {
   "cell_type": "markdown",
   "id": "92912e06-0ed9-45b8-964d-dfa42c324897",
   "metadata": {},
   "source": [
    "Before further steps are taken, the phase center of the telescope must be defined."
   ]
  },
  {
   "cell_type": "code",
   "execution_count": null,
   "id": "d783261a-728b-4f5b-9121-a62448a7b28e",
   "metadata": {},
   "outputs": [],
   "source": [
    "ra0 = 250\n",
    "dec0 = -80\n",
    "phase_center = [ra0,dec0]"
   ]
  },
  {
   "cell_type": "code",
   "execution_count": null,
   "id": "6abab2c0",
   "metadata": {},
   "outputs": [],
   "source": [
    "def plot_sky(sky, phase_center):\n",
    "    ra0, dec0 = phase_center[0], phase_center[1]\n",
    "    data = sky[:,0:3]\n",
    "    ra = np.radians(data[:, 0] - ra0)\n",
    "    dec = np.radians(data[:, 1])\n",
    "    flux = data[:, 2]\n",
    "    log_flux = np.log10(flux) # doesn't work as intended yet because of log of negative values\n",
    "    x = np.cos(dec) * np.sin(ra)\n",
    "    y = np.cos(np.radians(dec0)) * np.sin(dec) - \\\n",
    "                np.sin(np.radians(dec0)) * np.cos(dec) * np.cos(ra)\n",
    "    sc = plt.scatter(x, y, s=.5, c=log_flux, cmap='plasma',\n",
    "                vmin=np.min(log_flux), vmax=np.max(log_flux))\n",
    "    plt.axis('equal')\n",
    "    plt.xlabel('x direction cosine')\n",
    "    plt.ylabel('y direction cosine')\n",
    "    plt.colorbar(sc, label='Log10(Stokes I flux [Jy])')\n",
    "    plt.show()\n",
    "    \n",
    "plot_sky(sky, phase_center)"
   ]
  },
  {
   "cell_type": "markdown",
   "id": "aee6bfe1-120b-4c52-bcb8-5fef9c3bc12d",
   "metadata": {},
   "source": [
    "Now that we have determined the phase center we can take a closer look at how the point sources are distributed around the center. For this we use a coordinate 2d image projection with the phase center as the origin using the the world coordinate system ([wcs](https://docs.astropy.org/en/stable/wcs/index.html)) of astropy. Specific information about the wcs parameters can be found [here](https://docs.astropy.org/en/stable/api/astropy.wcs.Wcsprm.html). For this illustration, we do not take into account the flux intensity, so that all sources are clearly visible."
   ]
  },
  {
   "cell_type": "code",
   "execution_count": null,
   "id": "0aad0271",
   "metadata": {
    "scrolled": true
   },
   "outputs": [],
   "source": [
    "sky.explore_sky(phase_center=phase_center, figsize=(8,6))"
   ]
  },
  {
   "cell_type": "markdown",
   "id": "1cc92920-8186-4ea5-bf67-2f2cb50d2d47",
   "metadata": {},
   "source": [
    "Now, to have only a partition of the sky, we can use the `filter_by_radius`, which filters from the phase center with an inner and outer radius in degrees. Oskar also provides the function `filter_by_flux` to filter by Stokes-I flux. For more details we refer to the Oskar [documentation](https://fdulwich.github.io/oskarpy-doc/sky.html)."
   ]
  },
  {
   "cell_type": "code",
   "execution_count": null,
   "id": "1febb6bc",
   "metadata": {
    "tags": []
   },
   "outputs": [],
   "source": [
    "# first filter sky by inner and outer radius in degrees from the phase center\n",
    "sky.filter_by_radius(0, .55, phase_center[0], phase_center[1])\n",
    "sky.num_sources"
   ]
  },
  {
   "cell_type": "markdown",
   "id": "f9223e38-3522-4cf6-986c-8b84ab97aa70",
   "metadata": {},
   "source": [
    "Now let's look at the filtered sources."
   ]
  },
  {
   "cell_type": "code",
   "execution_count": null,
   "id": "e6e7faab",
   "metadata": {},
   "outputs": [],
   "source": [
    "sky.explore_sky(phase_center=phase_center, figsize=(10,8), s=80,\n",
    "                xlim=(-.55,.55), ylim=(-.55,.55), with_labels=True)"
   ]
  },
  {
   "cell_type": "markdown",
   "id": "d15a1b55",
   "metadata": {},
   "source": [
    "### Telescope Module\n",
    "\n",
    "Various observation parameters and meta information `params` must be passed to the telescope module `oskar.Interferometer` of OSKAR as `oskar.SettingsTree`."
   ]
  },
  {
   "cell_type": "code",
   "execution_count": null,
   "id": "5896aa6b",
   "metadata": {},
   "outputs": [],
   "source": [
    "telescope = read_OSKAR_tm_file('../data/telescope.tm')"
   ]
  },
  {
   "cell_type": "code",
   "execution_count": null,
   "id": "62ad2238",
   "metadata": {},
   "outputs": [],
   "source": [
    "observation = Observation(start_frequency_hz=start_frequency_hz, start_date_and_time=datetime(2000, 1, 1, 12, 0),\n",
    "                          length=timedelta(hours=12), number_of_channels=16, frequency_increment_hz=20e6,\n",
    "                          phase_centre_ra_deg=ra0, phase_centre_dec_deg=dec0, number_of_time_steps=24)"
   ]
  },
  {
   "cell_type": "code",
   "execution_count": null,
   "id": "ee7c679a",
   "metadata": {},
   "outputs": [],
   "source": [
    "interferometer = InterferometerSimulation(output_path='./visibilities', channel_bandwidth_hz=1e6)"
   ]
  },
  {
   "cell_type": "code",
   "execution_count": null,
   "id": "b2526523",
   "metadata": {},
   "outputs": [],
   "source": [
    "interferometer.run_simulation(telescope, sky, observation)"
   ]
  },
  {
   "cell_type": "code",
   "execution_count": null,
   "id": "3b51c796",
   "metadata": {},
   "outputs": [],
   "source": [
    "# Basic settings. (Note that the sky model is set up later.)\n",
    "#params = {\n",
    "#    \"simulator\": {\n",
    "#        \"use_gpus\": \"False\"\n",
    "#    },\n",
    "#    \"observation\" : {\n",
    "#        #\"num_channels\": 64,\n",
    "#        \"num_channels\": \"16\",\n",
    "#        \"start_frequency_hz\": str(start_frequency_hz),\n",
    "#        \"frequency_inc_hz\": \"20e6\",\n",
    "#        \"phase_centre_ra_deg\": str(phase_center[0]),\n",
    "#        \"phase_centre_dec_deg\": str(phase_center[1]),\n",
    "#        \"num_time_steps\": \"24\",\n",
    "#        \"start_time_utc\": \"01-01-2000 12:00:00.000\",\n",
    "#        \"length\": \"12:00:00.000\"\n",
    "#    },\n",
    "#    \"telescope\": {\n",
    "#        \"input_directory\": \"../data/telescope.tm\"\n",
    "#    },\n",
    "#    \"interferometer\": {\n",
    "#        \"ms_filename\": \"visibilities_gleam.ms\",\n",
    "#        \"channel_bandwidth_hz\": str(1e6),\n",
    "#        \"time_average_sec\": \"10\"\n",
    "#    }\n",
    "#}\n",
    "#settings = oskar.SettingsTree(\"oskar_sim_interferometer\")\n",
    "#settings.from_dict(params)\n",
    "\n",
    "#precision = \"single\"\n",
    "#if precision == \"single\":\n",
    "#    settings[\"simulator/double_precision\"] = \"False\"\n",
    "\n",
    "# Set the sky model and run the simulation.\n",
    "#sim = oskar.Interferometer(settings=settings)\n",
    "#sim.set_sky_model(sky)\n",
    "#sim.run()"
   ]
  },
  {
   "cell_type": "markdown",
   "id": "1868693f",
   "metadata": {},
   "source": [
    "### Observation Simulation\n",
    "\n",
    "Now the sky module must be passed to the interferometer and the simulation of the observation must be started to generate the measurement set."
   ]
  },
  {
   "cell_type": "code",
   "execution_count": null,
   "id": "59b6d11e",
   "metadata": {
    "tags": []
   },
   "outputs": [],
   "source": []
  },
  {
   "cell_type": "markdown",
   "id": "b9e0bd1b",
   "metadata": {},
   "source": [
    "## Processing\n",
    "\n",
    "After the observation is made with the telescope, a calibration of the measured data must be performed, followed by the reconstruction of the image.\n",
    "\n",
    "### Calibration after Observation\n",
    "\n",
    "toDo"
   ]
  },
  {
   "cell_type": "markdown",
   "id": "5a1ca8bf",
   "metadata": {},
   "source": [
    "### Imaging\n",
    "\n",
    "Start an mmclean algorithm with the visibilites.ms as an input to deconvolve. \n",
    "To use dask cluster where you can see the progress, first create a dask cluster in the dask-extension on the left. \n",
    "Then copy the scheduler adress into the variable below. It might be correct already.\n",
    "\n",
    "If you don't do this, remove the --dask_scheduler option from the options in the start_imager call.\n",
    "Then RASCIL starts its own scheduler, you will however not be able to see the dashbaord, as the port is probably not forwarded by docker."
   ]
  },
  {
   "cell_type": "code",
   "execution_count": null,
   "id": "71820804-3b7a-47be-ac9e-c4058ea50436",
   "metadata": {
    "tags": []
   },
   "outputs": [],
   "source": [
    "#from rascil.apps import rascil_imager\n",
    "#from rascil.processing_components.util.performance import (\n",
    "#    performance_store_dict,\n",
    "#    performance_environment,\n",
    "#)\n",
    "    \n",
    "#def start_imager(rawargs):\n",
    "#    parser = rascil_imager.cli_parser()\n",
    "#    args = parser.parse_args(rawargs)\n",
    "#    performance_environment(args.performance_file, mode=\"w\")\n",
    "#    performance_store_dict(args.performance_file, \"cli_args\", vars(args), mode=\"a\")\n",
    "#    image_name = rascil_imager.imager(args)\n",
    "\n",
    "#start_imager(\n",
    "#    [\n",
    "#        '--ingest_msname','visibilities_gleam.ms',\n",
    "#        '--ingest_dd', '0', \n",
    "#        '--ingest_vis_nchan', '16',\n",
    "#        '--ingest_chan_per_blockvis', '1' ,\n",
    "#        '--ingest_average_blockvis', 'True',\n",
    "#        '--imaging_npixel', '2048', \n",
    "#        '--imaging_cellsize', '3.878509448876288e-05',\n",
    "#        '--imaging_weighting', 'robust',\n",
    "#        '--imaging_robustness', '-0.5',\n",
    "#        '--clean_nmajor', '2' ,\n",
    "#        '--clean_algorithm', 'mmclean',\n",
    "#        '--clean_scales', '0', '6', '10', '30', '60',\n",
    "#        '--clean_fractional_threshold', '0.3',\n",
    "#        '--clean_threshold', '0.12e-3',\n",
    "#        '--clean_nmoment' ,'5',\n",
    "#        '--clean_psf_support', '640',\n",
    "#        '--clean_restored_output', 'integrated'\n",
    "#    ])"
   ]
  },
  {
   "cell_type": "code",
   "execution_count": null,
   "id": "34d8c791",
   "metadata": {},
   "outputs": [],
   "source": [
    "imager = Imager(ingest_msname='visibilities_gleam.ms',\n",
    "                ingest_dd=0,\n",
    "                ingest_vis_nchan=16,\n",
    "                ingest_chan_per_blockvis=1,\n",
    "                ingest_average_blockvis=True,\n",
    "                imaging_npixel=2048,\n",
    "                imaging_cellsize=3.878509448876288e-05,\n",
    "                imaging_weighting='robust',\n",
    "                imaging_robustness=-.5,\n",
    "                clean_nmajor=2,\n",
    "                clean_algorithm='mmclean',\n",
    "                clean_scales=[0,6,10,30,60],\n",
    "                clean_fractional_threshold=.3,\n",
    "                clean_threshold=.12e-3,\n",
    "                clean_nmoment=5,\n",
    "                clean_psf_support=640,\n",
    "                clean_restored_output='integraed')\n",
    "\n",
    "#imager.imaging_rascil()"
   ]
  },
  {
   "cell_type": "markdown",
   "id": "5f1a51e6",
   "metadata": {
    "tags": []
   },
   "source": [
    "## Analysis and Comparison\n",
    "\n",
    "toDo"
   ]
  },
  {
   "cell_type": "markdown",
   "id": "75194bdd-fcab-4c41-b838-f188d600399b",
   "metadata": {
    "tags": []
   },
   "source": [
    "Now we have the image of the pipeline and the corresponding pixel coordinates as ground truth. Important are the number of set pixels and the cellsize, from which the coordinates are calculated."
   ]
  },
  {
   "cell_type": "code",
   "execution_count": null,
   "id": "cc05f6b7",
   "metadata": {},
   "outputs": [],
   "source": [
    "type(px)"
   ]
  },
  {
   "cell_type": "code",
   "execution_count": null,
   "id": "2d2086fa-f58a-416f-a587-229b852ebb47",
   "metadata": {},
   "outputs": [],
   "source": [
    "hdulist = fits.open('./visibilities_gleam_nmoment5_cip_deconvolved.fits')\n",
    "w_fits = wcs.WCS(hdulist[0].header)\n",
    "\n",
    "#### Construct Fits file ######\n",
    "w = wcs.WCS(naxis=2)\n",
    "w.wcs.crpix = w_fits.wcs.crpix[0:2] # coordinate reference pixel per axis --> on image\n",
    "w.wcs.cdelt = w_fits.wcs.cdelt[0:2] # coordinate increments on sphere per axis\n",
    "w.wcs.crval = [phase_center[0], phase_center[1]]\n",
    "w.wcs.ctype = [\"RA---AIR\", \"DEC--AIR\"] # coordinate axis type\n",
    "px, py = w.wcs_world2pix(sky[:,0], sky[:,1], 1) # coordinate conversion\n",
    "fig, ax = plt.subplots()\n",
    "ax.scatter(px, py)\n",
    "\n",
    "for i, txt in enumerate(sky[:,-1]):\n",
    "    ax.annotate(txt, (px[i], py[i]))\n",
    "    pass\n",
    "plt.show()"
   ]
  },
  {
   "cell_type": "code",
   "execution_count": null,
   "id": "e9a822a0-5e8f-4d24-8d2a-b93629c6d2b9",
   "metadata": {},
   "outputs": [],
   "source": [
    "import pandas as pd\n",
    "px_coord = pd.DataFrame({'source':source_name, 'RAJ2000':ra_filtered, 'DEJ2000':dec_filtered, 'px':px, 'py':py, 'stokes_I_flux':df_gleam_filtered['Fp076']})\n",
    "px_coord"
   ]
  }
 ],
 "metadata": {
  "interpreter": {
   "hash": "a424f534593172213fc036407833d41a2357dbed8b39ef293519ab55d7a4ebc3"
  },
  "kernelspec": {
   "display_name": "karabo",
   "language": "python",
   "name": "karabo"
  },
  "language_info": {
   "codemirror_mode": {
    "name": "ipython",
    "version": 3
   },
   "file_extension": ".py",
   "mimetype": "text/x-python",
   "name": "python",
   "nbconvert_exporter": "python",
   "pygments_lexer": "ipython3",
   "version": "3.9.10"
  }
 },
 "nbformat": 4,
 "nbformat_minor": 5
}

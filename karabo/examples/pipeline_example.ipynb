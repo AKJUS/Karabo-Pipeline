{
 "cells": [
  {
   "cell_type": "markdown",
   "id": "7269719f",
   "metadata": {},
   "source": [
    "# Sample Pipeline\n",
    "\n",
    "This notebook shows an end to end radio interferometry pipeline from the simulation of the sky to the final image. The pipeline consists of three modules:\n",
    "\n",
    "- Simulation\n",
    "    - Sky module: OSKAR\n",
    "    - Telescope module incl. calibration: OSKAR\n",
    "- Processing\n",
    "    - Calibration after observation: RASCIL\n",
    "    - Deconvolution: RASCIL\n",
    "- Analysis & comparison\n",
    "    - Quantitative and qualitative analysis of algorithms"
   ]
  },
  {
   "cell_type": "code",
   "execution_count": 4,
   "id": "ebaf71c9-53db-4fc7-adc6-6ab0390d812d",
   "metadata": {
    "tags": []
   },
   "outputs": [
    {
     "ename": "ModuleNotFoundError",
     "evalue": "No module named 'h5py'",
     "output_type": "error",
     "traceback": [
      "\u001B[0;31m---------------------------------------------------------------------------\u001B[0m",
      "\u001B[0;31mModuleNotFoundError\u001B[0m                       Traceback (most recent call last)",
      "\u001B[0;32m/var/folders/pt/pfkrrbm532g53xr9t0vpbw780000gn/T/ipykernel_28655/3884045894.py\u001B[0m in \u001B[0;36m<module>\u001B[0;34m\u001B[0m\n\u001B[1;32m      5\u001B[0m \u001B[0;32mfrom\u001B[0m \u001B[0mastropy\u001B[0m\u001B[0;34m.\u001B[0m\u001B[0mvisualization\u001B[0m \u001B[0;32mimport\u001B[0m \u001B[0mastropy_mpl_style\u001B[0m\u001B[0;34m\u001B[0m\u001B[0;34m\u001B[0m\u001B[0m\n\u001B[1;32m      6\u001B[0m \u001B[0;32mimport\u001B[0m \u001B[0mnumpy\u001B[0m \u001B[0;32mas\u001B[0m \u001B[0mnp\u001B[0m\u001B[0;34m\u001B[0m\u001B[0;34m\u001B[0m\u001B[0m\n\u001B[0;32m----> 7\u001B[0;31m \u001B[0;32mfrom\u001B[0m \u001B[0mrascil\u001B[0m\u001B[0;34m.\u001B[0m\u001B[0mapps\u001B[0m \u001B[0;32mimport\u001B[0m \u001B[0mrascil_imager\u001B[0m\u001B[0;34m\u001B[0m\u001B[0;34m\u001B[0m\u001B[0m\n\u001B[0m\u001B[1;32m      8\u001B[0m from rascil.processing_components.util.performance import (\n\u001B[1;32m      9\u001B[0m     \u001B[0mperformance_store_dict\u001B[0m\u001B[0;34m,\u001B[0m\u001B[0;34m\u001B[0m\u001B[0;34m\u001B[0m\u001B[0m\n",
      "\u001B[0;32m/opt/anaconda3/envs/pipeline_env_38/lib/python3.8/site-packages/rascil-0.4.0-py3.8.egg/rascil/__init__.py\u001B[0m in \u001B[0;36m<module>\u001B[0;34m\u001B[0m\n\u001B[0;32m----> 1\u001B[0;31m \u001B[0;32mfrom\u001B[0m \u001B[0;34m.\u001B[0m \u001B[0;32mimport\u001B[0m \u001B[0mdata_models\u001B[0m\u001B[0;34m\u001B[0m\u001B[0;34m\u001B[0m\u001B[0m\n\u001B[0m\u001B[1;32m      2\u001B[0m \u001B[0;32mfrom\u001B[0m \u001B[0;34m.\u001B[0m \u001B[0;32mimport\u001B[0m \u001B[0mprocessing_components\u001B[0m\u001B[0;34m\u001B[0m\u001B[0;34m\u001B[0m\u001B[0m\n\u001B[1;32m      3\u001B[0m \u001B[0;32mfrom\u001B[0m \u001B[0;34m.\u001B[0m \u001B[0;32mimport\u001B[0m \u001B[0mworkflows\u001B[0m\u001B[0;34m\u001B[0m\u001B[0;34m\u001B[0m\u001B[0m\n\u001B[1;32m      4\u001B[0m \u001B[0;32mfrom\u001B[0m \u001B[0;34m.\u001B[0m \u001B[0;32mimport\u001B[0m \u001B[0mphyconst\u001B[0m\u001B[0;34m\u001B[0m\u001B[0;34m\u001B[0m\u001B[0m\n\u001B[1;32m      5\u001B[0m \u001B[0;34m\u001B[0m\u001B[0m\n",
      "\u001B[0;32m/opt/anaconda3/envs/pipeline_env_38/lib/python3.8/site-packages/rascil-0.4.0-py3.8.egg/rascil/data_models/__init__.py\u001B[0m in \u001B[0;36m<module>\u001B[0;34m\u001B[0m\n\u001B[1;32m      8\u001B[0m \u001B[0;34m\u001B[0m\u001B[0m\n\u001B[1;32m      9\u001B[0m \u001B[0;32mfrom\u001B[0m \u001B[0;34m.\u001B[0m\u001B[0mmemory_data_models\u001B[0m \u001B[0;32mimport\u001B[0m \u001B[0;34m*\u001B[0m\u001B[0;34m\u001B[0m\u001B[0;34m\u001B[0m\u001B[0m\n\u001B[0;32m---> 10\u001B[0;31m \u001B[0;32mfrom\u001B[0m \u001B[0;34m.\u001B[0m\u001B[0mbuffer_data_models\u001B[0m \u001B[0;32mimport\u001B[0m \u001B[0;34m*\u001B[0m\u001B[0;34m\u001B[0m\u001B[0;34m\u001B[0m\u001B[0m\n\u001B[0m\u001B[1;32m     11\u001B[0m \u001B[0;32mfrom\u001B[0m \u001B[0;34m.\u001B[0m\u001B[0mdata_model_helpers\u001B[0m \u001B[0;32mimport\u001B[0m \u001B[0;34m*\u001B[0m\u001B[0;34m\u001B[0m\u001B[0;34m\u001B[0m\u001B[0m\n\u001B[1;32m     12\u001B[0m \u001B[0;32mfrom\u001B[0m \u001B[0;34m.\u001B[0m\u001B[0mpolarisation\u001B[0m \u001B[0;32mimport\u001B[0m \u001B[0;34m*\u001B[0m\u001B[0;34m\u001B[0m\u001B[0;34m\u001B[0m\u001B[0m\n",
      "\u001B[0;32m/opt/anaconda3/envs/pipeline_env_38/lib/python3.8/site-packages/rascil-0.4.0-py3.8.egg/rascil/data_models/buffer_data_models.py\u001B[0m in \u001B[0;36m<module>\u001B[0;34m\u001B[0m\n\u001B[1;32m     32\u001B[0m \u001B[0;32mimport\u001B[0m \u001B[0mlogging\u001B[0m\u001B[0;34m\u001B[0m\u001B[0;34m\u001B[0m\u001B[0m\n\u001B[1;32m     33\u001B[0m \u001B[0;34m\u001B[0m\u001B[0m\n\u001B[0;32m---> 34\u001B[0;31m from rascil.data_models.data_model_helpers import (\n\u001B[0m\u001B[1;32m     35\u001B[0m     \u001B[0mbuffer_data_model_to_memory\u001B[0m\u001B[0;34m,\u001B[0m\u001B[0;34m\u001B[0m\u001B[0;34m\u001B[0m\u001B[0m\n\u001B[1;32m     36\u001B[0m     \u001B[0mmemory_data_model_to_buffer\u001B[0m\u001B[0;34m,\u001B[0m\u001B[0;34m\u001B[0m\u001B[0;34m\u001B[0m\u001B[0m\n",
      "\u001B[0;32m/opt/anaconda3/envs/pipeline_env_38/lib/python3.8/site-packages/rascil-0.4.0-py3.8.egg/rascil/data_models/data_model_helpers.py\u001B[0m in \u001B[0;36m<module>\u001B[0;34m\u001B[0m\n\u001B[1;32m    100\u001B[0m \u001B[0;34m\u001B[0m\u001B[0m\n\u001B[1;32m    101\u001B[0m \u001B[0;32mimport\u001B[0m \u001B[0mastropy\u001B[0m\u001B[0;34m.\u001B[0m\u001B[0munits\u001B[0m \u001B[0;32mas\u001B[0m \u001B[0mu\u001B[0m\u001B[0;34m\u001B[0m\u001B[0;34m\u001B[0m\u001B[0m\n\u001B[0;32m--> 102\u001B[0;31m \u001B[0;32mimport\u001B[0m \u001B[0mh5py\u001B[0m\u001B[0;34m\u001B[0m\u001B[0;34m\u001B[0m\u001B[0m\n\u001B[0m\u001B[1;32m    103\u001B[0m \u001B[0;32mimport\u001B[0m \u001B[0mnumpy\u001B[0m\u001B[0;34m\u001B[0m\u001B[0;34m\u001B[0m\u001B[0m\n\u001B[1;32m    104\u001B[0m \u001B[0;32mimport\u001B[0m \u001B[0mxarray\u001B[0m\u001B[0;34m\u001B[0m\u001B[0;34m\u001B[0m\u001B[0m\n",
      "\u001B[0;31mModuleNotFoundError\u001B[0m: No module named 'h5py'"
     ]
    }
   ],
   "source": [
    "import sys\n",
    "import oskar\n",
    "import matplotlib\n",
    "import matplotlib.pyplot as plt\n",
    "from astropy.visualization import astropy_mpl_style\n",
    "import numpy as np\n",
    "from rascil.apps import rascil_imager\n",
    "from rascil.processing_components.util.performance import (\n",
    "    performance_store_dict,\n",
    "    performance_environment,\n",
    ")\n",
    "from astropy.utils.data import get_pkg_data_filename\n",
    "from astropy.io import fits"
   ]
  },
  {
   "cell_type": "code",
   "execution_count": 2,
   "id": "4e9a0aad-cbef-40fb-a1e1-105cffd83cea",
   "metadata": {
    "tags": []
   },
   "outputs": [
    {
     "ename": "NameError",
     "evalue": "name 'plt' is not defined",
     "output_type": "error",
     "traceback": [
      "\u001B[0;31m---------------------------------------------------------------------------\u001B[0m",
      "\u001B[0;31mNameError\u001B[0m                                 Traceback (most recent call last)",
      "\u001B[0;32m/var/folders/pt/pfkrrbm532g53xr9t0vpbw780000gn/T/ipykernel_28353/3036776047.py\u001B[0m in \u001B[0;36m<module>\u001B[0;34m\u001B[0m\n\u001B[0;32m----> 1\u001B[0;31m \u001B[0mplt\u001B[0m\u001B[0;34m.\u001B[0m\u001B[0mstyle\u001B[0m\u001B[0;34m.\u001B[0m\u001B[0muse\u001B[0m\u001B[0;34m(\u001B[0m\u001B[0mastropy_mpl_style\u001B[0m\u001B[0;34m)\u001B[0m\u001B[0;34m\u001B[0m\u001B[0;34m\u001B[0m\u001B[0m\n\u001B[0m",
      "\u001B[0;31mNameError\u001B[0m: name 'plt' is not defined"
     ]
    }
   ],
   "source": [
    "plt.style.use(astropy_mpl_style)"
   ]
  },
  {
   "cell_type": "markdown",
   "source": [],
   "metadata": {
    "collapsed": false
   }
  },
  {
   "cell_type": "markdown",
   "id": "22b3dd01",
   "metadata": {},
   "source": [
    "## Simulation\n",
    "\n",
    "The sky and telescope simulation is currently provided completely by OSKAR.\n",
    "\n",
    "### Sky Module\n",
    "\n",
    "The sky module of OSKAR contains radiation sources, which are defined as array and can be passed to `oskar.Sky.from_array`."
   ]
  },
  {
   "cell_type": "code",
   "execution_count": null,
   "id": "51f5ede7",
   "metadata": {
    "tags": []
   },
   "outputs": [],
   "source": [
    "# Set the numerical precision to use.\n",
    "precision = \"single\"\n",
    "\n",
    "# Create a sky model containing three sources from a numpy array.\n",
    "sky_data = np.array([\n",
    "        [20.0, -30.0, 1, 0, 0, 0, 100.0e6, -0.7, 0.0, 0,   0,   0],\n",
    "        [20.0, -30.5, 3, 2, 2, 0, 100.0e6, -0.7, 0.0, 600, 50,  45],\n",
    "        [20.5, -30.5, 3, 0, 0, 2, 100.0e6, -0.7, 0.0, 700, 10, -10]])\n",
    "sky = oskar.Sky.from_array(sky_data, precision)  # Pass precision here."
   ]
  },
  {
   "cell_type": "markdown",
   "id": "d15a1b55",
   "metadata": {},
   "source": [
    "### Telescope Module\n",
    "\n",
    "Various observation parameters and meta information `params` must be passed to the telescope module `oskar.Interferometer` of OSKAR as `oskar.SettingsTree`."
   ]
  },
  {
   "cell_type": "code",
   "execution_count": null,
   "id": "06c2e94d-e3f1-4cb9-bfc5-5a6cf57459f9",
   "metadata": {
    "tags": []
   },
   "outputs": [],
   "source": [
    "# Basic settings. (Note that the sky model is set up later.)\n",
    "params = {\n",
    "    \"simulator\": {\n",
    "        \"use_gpus\": False\n",
    "    },\n",
    "    \"observation\" : {\n",
    "        \"num_channels\": 64,\n",
    "        \"start_frequency_hz\": 100e6,\n",
    "        \"frequency_inc_hz\": 20e6,\n",
    "        \"phase_centre_ra_deg\": 20,\n",
    "        \"phase_centre_dec_deg\": -30,\n",
    "        \"num_time_steps\": 24,\n",
    "        \"start_time_utc\": \"01-01-2000 12:00:00.000\",\n",
    "        \"length\": \"12:00:00.000\"\n",
    "    },\n",
    "    \"telescope\": {\n",
    "        \"input_directory\": \"../data/telescope.tm\"\n",
    "    },\n",
    "    \"interferometer\": {\n",
    "        \"ms_filename\": \"visibilities.ms\",\n",
    "        \"channel_bandwidth_hz\": 1e6,\n",
    "        \"time_average_sec\": 10\n",
    "    }\n",
    "}\n",
    "settings = oskar.SettingsTree(\"oskar_sim_interferometer\")\n",
    "settings.from_dict(params)\n",
    "\n",
    "if precision == \"single\":\n",
    "    settings[\"simulator/double_precision\"] = False\n",
    "\n",
    "# Set the sky model and run the simulation.\n",
    "sim = oskar.Interferometer(settings=settings)"
   ]
  },
  {
   "cell_type": "markdown",
   "id": "1868693f",
   "metadata": {},
   "source": [
    "### Observation Simulation\n",
    "\n",
    "Now the sky module must be passed to the interferometer and the simulation of the observation must be started to generate the measurement set."
   ]
  },
  {
   "cell_type": "code",
   "execution_count": null,
   "id": "59b6d11e",
   "metadata": {
    "tags": []
   },
   "outputs": [],
   "source": [
    "sim.set_sky_model(sky)\n",
    "sim.run()"
   ]
  },
  {
   "cell_type": "markdown",
   "id": "b9e0bd1b",
   "metadata": {},
   "source": [
    "## Processing\n",
    "\n",
    "After the observation is made with the telescope, a calibration of the measured data must be performed, followed by the reconstruction of the image.\n",
    "\n",
    "### Calibration after Observation\n",
    "\n",
    "toDo"
   ]
  },
  {
   "cell_type": "code",
   "execution_count": null,
   "id": "e01ea9f0",
   "metadata": {
    "tags": []
   },
   "outputs": [],
   "source": [
    "# Code here"
   ]
  },
  {
   "cell_type": "markdown",
   "id": "5a1ca8bf",
   "metadata": {},
   "source": [
    "### Imaging\n",
    "\n",
    "Start an mmclean algorithm with the visibilites.ms as an input to deconvolve. \n",
    "To use dask cluster where you can see the progress, first create a dask cluster in the dask-extension on the left. \n",
    "Then copy the scheduler adress into the variable below. It might be correct already.\n",
    "\n",
    "If you don't do this, remove the --dask_scheduler option from the options in the start_imager call.\n",
    "Then RASCIL starts its own scheduler, you will however not be able to see the dashbaord, as the port is probably not forwarded by docker."
   ]
  },
  {
   "cell_type": "code",
   "execution_count": null,
   "id": "71820804-3b7a-47be-ac9e-c4058ea50436",
   "metadata": {
    "tags": []
   },
   "outputs": [],
   "source": [
    "from rascil import rascil_imager\n",
    "\n",
    "def start_imager(rawargs):\n",
    "    parser = rascil_imager.cli_parser()\n",
    "    args = parser.parse_args(rawargs)\n",
    "    rascil_imager.performance_environment(args.performance_file, mode=\"w\")\n",
    "    rascil.imager.performance_store_dict(args.performance_file, \"cli_args\", vars(args), mode=\"a\")\n",
    "    image_name = rascil_imager.imager(args)\n",
    "\n",
    "start_imager(\n",
    "    [\n",
    "        '--ingest_msname','visibilities.ms',\n",
    "        '--ingest_dd', '0',\n",
    "        '--ingest_vis_nchan', '64',\n",
    "        '--ingest_chan_per_blockvis', '4' ,\n",
    "        '--ingest_average_blockvis', 'True',\n",
    "        '--imaging_npixel', '2048',\n",
    "        '--imaging_cellsize', '3.878509448876288e-05',\n",
    "        '--imaging_weighting', 'robust',\n",
    "        '--imaging_robustness', '-0.5',\n",
    "        '--clean_nmajor', '5' ,\n",
    "        '--clean_algorithm', 'mmclean',\n",
    "        '--clean_scales', '0', '6', '10', '30', '60',\n",
    "        '--clean_fractional_threshold', '0.3',\n",
    "        '--clean_threshold', '0.12e-3',\n",
    "        '--clean_nmoment' ,'5',\n",
    "        '--clean_psf_support', '640',\n",
    "        '--clean_restored_output', 'integrated'\n",
    "    ])"
   ]
  },
  {
   "cell_type": "markdown",
   "source": [
    "## Analysis and Comparison\n",
    "\n",
    "toDo"
   ],
   "metadata": {
    "collapsed": false
   }
  },
  {
   "cell_type": "code",
   "execution_count": null,
   "id": "5ff6d94d-2643-468d-b0ab-a9f72feb62e2",
   "metadata": {
    "tags": []
   },
   "outputs": [],
   "source": [
    "# matplotlib.use(\"Agg\") from rascil_imager.py causes the problem that matplotlib isn't able to plot in the notebook\n",
    "image_file = get_pkg_data_filename('visibilities_nmoment5_cip_deconvolved.fits')\n",
    "fits.info(image_file)"
   ]
  },
  {
   "cell_type": "code",
   "execution_count": null,
   "id": "cb378147-a901-46ae-a1e3-2320b94d497b",
   "metadata": {
    "tags": []
   },
   "outputs": [],
   "source": [
    "image_data = fits.getdata(image_file)\n",
    "image_data = np.log(image_data.sum(axis=(0,1)))\n",
    "_ = plt.figure(figsize=(8,6))\n",
    "_ = plt.imshow(image_data, cmap='gray')\n",
    "_ = plt.colorbar()"
   ]
  }
 ],
 "metadata": {
  "interpreter": {
   "hash": "a424f534593172213fc036407833d41a2357dbed8b39ef293519ab55d7a4ebc3"
  },
  "kernelspec": {
   "display_name": "Python 3.8.12 64-bit ('pipeline_env_38': conda)",
   "name": "python3"
  },
  "language_info": {
   "codemirror_mode": {
    "name": "ipython",
    "version": 3
   },
   "file_extension": ".py",
   "mimetype": "text/x-python",
   "name": "python",
   "nbconvert_exporter": "python",
   "pygments_lexer": "ipython3",
   "version": "3.8.12"
  }
 },
 "nbformat": 4,
 "nbformat_minor": 5
}